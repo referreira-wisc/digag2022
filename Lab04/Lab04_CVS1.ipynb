{
  "cells": [
    {
      "cell_type": "code",
      "source": [
        "!git clone https://github.com/referreira-wisc/digag2022.git"
      ],
      "metadata": {
        "id": "p02VpDX88tVu"
      },
      "id": "p02VpDX88tVu",
      "execution_count": null,
      "outputs": []
    },
    {
      "cell_type": "code",
      "source": [
        "import os\n",
        "os.chdir('digag2022/Lab04')"
      ],
      "metadata": {
        "id": "lz4h42908uBn"
      },
      "id": "lz4h42908uBn",
      "execution_count": null,
      "outputs": []
    },
    {
      "cell_type": "markdown",
      "id": "45c35660",
      "metadata": {
        "id": "45c35660"
      },
      "source": [
        "#### Import required libraries"
      ]
    },
    {
      "cell_type": "code",
      "execution_count": null,
      "id": "2e5dbf06",
      "metadata": {
        "id": "2e5dbf06"
      },
      "outputs": [],
      "source": [
        "from skimage.io import imread, imshow\n",
        "import numpy as np\n",
        "from scipy import stats"
      ]
    },
    {
      "cell_type": "markdown",
      "id": "ece49def",
      "metadata": {
        "id": "ece49def"
      },
      "source": [
        "#### Open Image"
      ]
    },
    {
      "cell_type": "code",
      "execution_count": null,
      "id": "77a54bb8",
      "metadata": {
        "id": "77a54bb8"
      },
      "outputs": [],
      "source": [
        "image = imread('image1.png')"
      ]
    },
    {
      "cell_type": "markdown",
      "id": "2b1863f4",
      "metadata": {
        "id": "2b1863f4"
      },
      "source": [
        "#### Get image size"
      ]
    },
    {
      "cell_type": "code",
      "execution_count": null,
      "id": "653aa6ff",
      "metadata": {
        "id": "653aa6ff"
      },
      "outputs": [],
      "source": [
        "#image = np.expand_dims(image, axis=-1)\n",
        "#image = np.concatenate((image,image,image), axis=-1)\n",
        "#print(image.shape)\n",
        "image_size = image.shape\n",
        "print(image_size)"
      ]
    },
    {
      "cell_type": "markdown",
      "id": "9c8cbd0b",
      "metadata": {
        "id": "9c8cbd0b"
      },
      "source": [
        "#### Descriptive Statistics: Max, Min, Mean, Median, Mode - pixel values in each channel"
      ]
    },
    {
      "cell_type": "code",
      "execution_count": null,
      "id": "8869e848",
      "metadata": {
        "id": "8869e848"
      },
      "outputs": [],
      "source": [
        "max_pixel = np.max(np.max(image, axis=0), axis=0)\n",
        "min_pixel = np.min(np.min(image, axis=0), axis=0)\n",
        "mean_pixel = np.mean(np.mean(image, axis=0), axis=0)\n",
        "median_pixel = np.median(np.median(image, axis=0), axis=0)\n",
        "mode_pixel = stats.mode(stats.mode(image)[0].squeeze())[0].squeeze()\n",
        "\n",
        "print(max_pixel)\n",
        "print(min_pixel)\n",
        "print(mean_pixel)\n",
        "print(median_pixel)\n",
        "print(mode_pixel)"
      ]
    },
    {
      "cell_type": "markdown",
      "id": "205607e6",
      "metadata": {
        "id": "205607e6"
      },
      "source": [
        "#### Visualize image"
      ]
    },
    {
      "cell_type": "code",
      "execution_count": null,
      "id": "a5d9bceb",
      "metadata": {
        "id": "a5d9bceb"
      },
      "outputs": [],
      "source": [
        "%matplotlib inline\n",
        "import matplotlib.pyplot as plt\n",
        "im = plt.imshow(image)"
      ]
    },
    {
      "cell_type": "markdown",
      "id": "2f8d31ad",
      "metadata": {
        "id": "2f8d31ad"
      },
      "source": [
        "#### Image histogram for each RGB channel"
      ]
    },
    {
      "cell_type": "code",
      "execution_count": null,
      "id": "4280eba2",
      "metadata": {
        "id": "4280eba2"
      },
      "outputs": [],
      "source": [
        "%matplotlib inline\n",
        "import matplotlib.pyplot as plt\n",
        "plt.figure(figsize=(12, 8))\n",
        "plt.subplot(2, 2, 1)\n",
        "image_histogram_red = plt.hist(image[:,:,0].flatten(), bins=256, range=[0, 256], facecolor='red')\n",
        "plt.title('Red channel histogram')\n",
        "plt.xlabel('Pixel value')\n",
        "plt.ylabel('Number of pixels')\n",
        "plt.subplot(2, 2, 2)\n",
        "image_histogram_green = plt.hist(image[:,:,1].flatten(), bins=256, range=[0, 256], facecolor='green')\n",
        "plt.title('Green channel histogram')\n",
        "plt.xlabel('Pixel value')\n",
        "plt.ylabel('Number of pixels')\n",
        "plt.subplot(2, 2, 3)\n",
        "image_histogram_blue = plt.hist(image[:,:,2].flatten(), bins=256, range=[0, 256], facecolor='blue')\n",
        "plt.title('Blue channel histogram')\n",
        "plt.xlabel('Pixel value')\n",
        "plt.ylabel('Number of pixels')\n",
        "plt.tight_layout()\n",
        "plt.show()"
      ]
    },
    {
      "cell_type": "markdown",
      "id": "5b748acd",
      "metadata": {
        "id": "5b748acd"
      },
      "source": [
        "#### Read each RGB channel"
      ]
    },
    {
      "cell_type": "code",
      "execution_count": null,
      "id": "52038855",
      "metadata": {
        "id": "52038855"
      },
      "outputs": [],
      "source": [
        "red_channel = image[:,:,0]\n",
        "green_channel = image[:,:,1]\n",
        "blue_channel = image[:,:,2]"
      ]
    },
    {
      "cell_type": "markdown",
      "id": "6d790a78",
      "metadata": {
        "id": "6d790a78"
      },
      "source": [
        "#### Define the upper and lower bounds of pixel values that corresponds to the cow, for each channel:"
      ]
    },
    {
      "cell_type": "code",
      "execution_count": null,
      "id": "3060c877",
      "metadata": {
        "id": "3060c877"
      },
      "outputs": [],
      "source": [
        "red_lower = 120\n",
        "red_upper = 255\n",
        "green_lower = 130\n",
        "green_upper = 255\n",
        "blue_lower = 120\n",
        "blue_upper = 255\n",
        "#gray_upper = 250\n",
        "#gray_lower = 255"
      ]
    },
    {
      "cell_type": "markdown",
      "id": "d3c25704",
      "metadata": {
        "id": "d3c25704"
      },
      "source": [
        "#### Segmentation Part 1"
      ]
    },
    {
      "cell_type": "code",
      "execution_count": null,
      "id": "08012d8b",
      "metadata": {
        "id": "08012d8b"
      },
      "outputs": [],
      "source": [
        "#using all channels\n",
        "mask = (red_channel >= red_lower) & (red_channel <= red_upper) & \\\n",
        "       (green_channel >= green_lower) & (green_channel <= green_upper) & \\\n",
        "       (blue_channel >= blue_lower) & (blue_channel <= blue_upper)\n",
        "# Set to 0 all pixels that are outside the defined bounds\n",
        "rc = red_channel.copy()\n",
        "rc[np.invert(mask)] = 0\n",
        "gc = green_channel.copy()\n",
        "gc[np.invert(mask)] = 0\n",
        "bc = blue_channel.copy()\n",
        "bc[np.invert(mask)] = 0\n",
        "\n",
        "# Recombine separate color channels into a single, true color RGB image\n",
        "segmented_image = np.stack((rc, gc, bc), axis=-1)"
      ]
    },
    {
      "cell_type": "markdown",
      "id": "0962fd17",
      "metadata": {
        "id": "0962fd17"
      },
      "source": [
        "#### Segmentation Part 2 - Visualizing the original and segmented images"
      ]
    },
    {
      "cell_type": "code",
      "execution_count": null,
      "id": "8de2f7b1",
      "metadata": {
        "id": "8de2f7b1"
      },
      "outputs": [],
      "source": [
        "%matplotlib inline\n",
        "import matplotlib.pyplot as plt\n",
        "plt.figure(figsize=(12, 8))\n",
        "plt.subplot(2, 2, 1)\n",
        "plt.imshow(image)\n",
        "plt.title('RGB - Original image')\n",
        "plt.axis('off')\n",
        "plt.subplot(2, 2, 2)\n",
        "plt.imshow(segmented_image)\n",
        "plt.title('RGB - Segmented image')\n",
        "plt.axis('off')\n",
        "plt.subplot(2, 2, 3)\n",
        "plt.imshow(mask, cmap='gray')\n",
        "plt.title('Binary mask')\n",
        "plt.axis('off')\n",
        "plt.tight_layout()\n",
        "plt.show()"
      ]
    },
    {
      "cell_type": "markdown",
      "id": "0a1cfc69",
      "metadata": {
        "id": "0a1cfc69"
      },
      "source": [
        "# #### Feature extraction - USE THIS PART FOR QUESTION 3!!"
      ]
    },
    {
      "cell_type": "markdown",
      "id": "81b38937",
      "metadata": {
        "id": "81b38937"
      },
      "source": [
        "## open your image:"
      ]
    },
    {
      "cell_type": "code",
      "execution_count": null,
      "id": "43faed19",
      "metadata": {
        "id": "43faed19"
      },
      "outputs": [],
      "source": [
        "from skimage.io import imread, imshow\n",
        "import numpy as np\n",
        "from scipy import stats\n",
        "\n",
        "binaryImage = imread('g1bw.png')"
      ]
    },
    {
      "cell_type": "code",
      "execution_count": null,
      "id": "d81680d3",
      "metadata": {
        "id": "d81680d3"
      },
      "outputs": [],
      "source": [
        "%matplotlib inline\n",
        "import matplotlib.pyplot as plt\n",
        "Segim = plt.imshow(binaryImage, cmap='gray')"
      ]
    },
    {
      "cell_type": "code",
      "execution_count": null,
      "id": "c8c80630",
      "metadata": {
        "id": "c8c80630"
      },
      "outputs": [],
      "source": [
        "import matplotlib.pyplot as plt\n",
        "import numpy as np\n",
        "import pandas as pd\n",
        "import plotly\n",
        "import plotly.express as px\n",
        "import plotly.graph_objects as go\n",
        "\n",
        "from skimage import data, filters, measure, morphology\n",
        "from skimage.draw import ellipse\n",
        "from skimage.measure import label, regionprops, regionprops_table\n",
        "from skimage.transform import rotate\n",
        "\n",
        "label_image = label(binaryImage)\n",
        "props = regionprops_table(label_image, properties=('centroid',\n",
        "                                                   'perimeter',\n",
        "                                                       'area'))\n",
        "pd.DataFrame(props)\n"
      ]
    },
    {
      "cell_type": "code",
      "execution_count": null,
      "id": "f963c7fd",
      "metadata": {
        "id": "f963c7fd"
      },
      "outputs": [],
      "source": [
        "import matplotlib.pyplot as plt\n",
        "import numpy as np\n",
        "import pandas as pd\n",
        "import plotly\n",
        "import plotly.express as px\n",
        "import plotly.graph_objects as go\n",
        "\n",
        "from skimage import data, filters, measure, morphology\n",
        "from skimage.draw import ellipse\n",
        "from skimage.measure import label, regionprops, regionprops_table\n",
        "from skimage.transform import rotate\n",
        "\n",
        "label_image = label(binaryImage)\n",
        "\n",
        "mask1 = morphology.remove_small_objects(binaryImage, 7)\n",
        "mask1 = morphology.remove_small_holes(binaryImage, 7)\n",
        "labels = measure.label(mask1)\n",
        "\n",
        "fig = px.imshow(binaryImage, binary_string=True)\n",
        "fig.update_traces(hoverinfo='skip') # hover is only for label info\n",
        "\n",
        "\n",
        "props = measure.regionprops(labels, mask1)\n",
        "properties = ['area', 'eccentricity', 'perimeter', 'area']\n",
        "\n",
        "# For each label, add a filled scatter trace for its contour,\n",
        "# and display the properties of the label in the hover of this trace.\n",
        "for index in range(1, labels.max()):\n",
        "    label_i = props[index].label\n",
        "    contour = measure.find_contours(labels == label_i, 0.5)[0]\n",
        "    y, x = contour.T\n",
        "    hoverinfo = ''\n",
        "    for prop_name in properties:\n",
        "        hoverinfo += f'<b>{prop_name}: {getattr(props[index], prop_name):.2f}</b><br>'\n",
        "    fig.add_trace(go.Scatter(\n",
        "        x=x, y=y, name=label_i,\n",
        "        mode='lines', fill='toself', showlegend=False,\n",
        "        hovertemplate=hoverinfo, hoveron='points+fills'))\n",
        "\n",
        "plotly.io.show(fig)\n",
        "\n"
      ]
    }
  ],
  "metadata": {
    "kernelspec": {
      "display_name": "Python 3 (ipykernel)",
      "language": "python",
      "name": "python3"
    },
    "language_info": {
      "codemirror_mode": {
        "name": "ipython",
        "version": 3
      },
      "file_extension": ".py",
      "mimetype": "text/x-python",
      "name": "python",
      "nbconvert_exporter": "python",
      "pygments_lexer": "ipython3",
      "version": "3.9.7"
    },
    "colab": {
      "provenance": []
    }
  },
  "nbformat": 4,
  "nbformat_minor": 5
}