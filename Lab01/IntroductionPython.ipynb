{
  "cells": [
    {
      "cell_type": "code",
      "source": [
        "!git clone https://github.com/referreira-wisc/digag2022.git"
      ],
      "metadata": {
        "id": "X6I057zU0exM"
      },
      "execution_count": null,
      "outputs": []
    },
    {
      "cell_type": "code",
      "source": [
        "import os\n",
        "os.chdir('digag2022/Lab01')"
      ],
      "metadata": {
        "id": "d8POwgNw12qv"
      },
      "execution_count": null,
      "outputs": []
    },
    {
      "cell_type": "markdown",
      "metadata": {
        "id": "ukUq6oQ40ZF8"
      },
      "source": [
        "# Advanced Digital Agriculture (DS/AS 875) - Introduction to Python\n",
        "We will be using the `Jupyter notebook` for many activities this semester. Every notebook has an associated language called the `kernel`. We will be using Python 3 kernel from the IPython project."
      ]
    },
    {
      "cell_type": "markdown",
      "metadata": {
        "id": "9V92G1Ib0ZGB"
      },
      "source": [
        "# Table of Contents\n",
        "* [1. Python data type](#1.-Python-data-type)\n",
        "    * [1.1 Numbers](#1.1-Numbers)\n",
        "    * [1.2 String](#1.2-String)\n",
        "    * [1.3 Boolean](#1.3-Boolean)\n",
        "* [2. Python operators](#2.-Python-operators)\n",
        "* [3. Python comparison operators](#3.-Python-comparison-operators)\n",
        "    * [3.1 Equal](#3.1-Equal)\n",
        "    * [3.2 Not equal](#3.2-Not-equal)\n",
        "    * [3.3 Greater than](#3.3-Greater-than)\n",
        "    * [3.4 Less than](#3.4-Less-than)\n",
        "    * [3.5 Greater than or equal to](#3.5-Greater-than-or-equal-to)\n",
        "    * [3.6 Less than or equal to](#3.6-Less-than-or-equal-to)\n",
        "* [4. Print](#4.-Print)\n",
        "* [5. Access items or index](#5.-Access-items-or-index)\n",
        "* [6. Lists, dictionaries, and tuples](#6.-Lists,-dictionaries,-and-tuples)\n",
        "    * [6.1 List](#6.1-List)\n",
        "    * [6.2 Nest lists](#6.2-Nest-lists)\n",
        "    * [6.3 Dictionaries](#6.3-Dictionaries)\n",
        "    * [6.4 Tuple](#6.4-Tuple)\n",
        "* [7. Control flow statements](#7.-Control-flow-statements)\n",
        "    * [7.1 *if, elif, else* statements](#7.1-if,-elif,-else-statements)\n",
        "    * [7.2 *for* loop](#7.2-for-loop)\n",
        "    * [7.3 *while* loop](#7.3-while-loop)\n",
        "* [8. Python functions](#8.-Python-functions)\n",
        "    * [9.1. Creating a function](#8.1-Creating-a-function)\n",
        "    * [9.2. Calling a function](#8.2-Calling-a-function)\n",
        "* [9. Read and write data](#9.-Read-and-write-data)\n",
        "    * [10.1 Read](#9.1-Read)\n",
        "    * [10.2 Write](#9.2-Write)\n",
        "* [10. Read and write images](#10.-Read-and-write-images)\n",
        "    * [11.1 Read](#10.1-Read)\n",
        "    * [11.2 Visualize image](#10.2-Visualize-image)\n",
        "    * [11.3 Write](#10.3-Write)\n",
        "* [11. References](#11.-References)"
      ]
    },
    {
      "cell_type": "markdown",
      "metadata": {
        "id": "-muKZ9E70ZGC"
      },
      "source": [
        "# 1. Python data type"
      ]
    },
    {
      "cell_type": "markdown",
      "metadata": {
        "id": "deXoOMOn0ZGD"
      },
      "source": [
        "## 1.1 Numbers"
      ]
    },
    {
      "cell_type": "code",
      "execution_count": null,
      "metadata": {
        "id": "yRKiBgAL0ZGD"
      },
      "outputs": [],
      "source": [
        "x = 34      # Integer\n",
        "x"
      ]
    },
    {
      "cell_type": "code",
      "execution_count": null,
      "metadata": {
        "id": "TpMrVmfY0ZGF"
      },
      "outputs": [],
      "source": [
        "y = 3.45    # Numeric or Floats\n",
        "y"
      ]
    },
    {
      "cell_type": "markdown",
      "metadata": {
        "id": "FZeiQwe30ZGG"
      },
      "source": [
        "## 1.2 String"
      ]
    },
    {
      "cell_type": "code",
      "execution_count": null,
      "metadata": {
        "id": "zstBrINq0ZGG"
      },
      "outputs": [],
      "source": [
        "z = 'Hello'\n",
        "z"
      ]
    },
    {
      "cell_type": "code",
      "execution_count": null,
      "metadata": {
        "id": "ljQ2pzNW0ZGH"
      },
      "outputs": [],
      "source": [
        "w = 'This is a string'\n",
        "w"
      ]
    },
    {
      "cell_type": "code",
      "execution_count": null,
      "metadata": {
        "id": "hqqPb-c-0ZGI"
      },
      "outputs": [],
      "source": [
        "c = z + \"! \" + w\n",
        "c"
      ]
    },
    {
      "cell_type": "markdown",
      "metadata": {
        "id": "8wxcR0KG0ZGI"
      },
      "source": [
        "## 1.3 Boolean "
      ]
    },
    {
      "cell_type": "code",
      "execution_count": null,
      "metadata": {
        "id": "Jogr5QVe0ZGJ"
      },
      "outputs": [],
      "source": [
        "a = True\n",
        "b = False"
      ]
    },
    {
      "cell_type": "markdown",
      "metadata": {
        "id": "W1i9WEa10ZGJ"
      },
      "source": [
        "# 2. Python operators\n",
        "Operators +, -, * and / work just like in most other languages"
      ]
    },
    {
      "cell_type": "code",
      "execution_count": null,
      "metadata": {
        "id": "1LZ-vKWL0ZGJ"
      },
      "outputs": [],
      "source": [
        "2 + 2  # addition"
      ]
    },
    {
      "cell_type": "code",
      "execution_count": null,
      "metadata": {
        "id": "YhUmGbo70ZGK"
      },
      "outputs": [],
      "source": [
        "10 - 5 # subtraction"
      ]
    },
    {
      "cell_type": "code",
      "execution_count": null,
      "metadata": {
        "id": "pjM0T3nL0ZGK"
      },
      "outputs": [],
      "source": [
        "5 * 6  # multiplication"
      ]
    },
    {
      "cell_type": "code",
      "execution_count": null,
      "metadata": {
        "id": "38mn9Mpe0ZGL"
      },
      "outputs": [],
      "source": [
        "8 / 5  # division"
      ]
    },
    {
      "cell_type": "code",
      "execution_count": null,
      "metadata": {
        "id": "J6qPoXa00ZGL"
      },
      "outputs": [],
      "source": [
        "5 ** 2 # Exponentiation"
      ]
    },
    {
      "cell_type": "markdown",
      "metadata": {
        "id": "80lQ8wTi0ZGL"
      },
      "source": [
        "# 3. Python comparison operators\n",
        "Comparison operators are used to compare two values."
      ]
    },
    {
      "cell_type": "markdown",
      "metadata": {
        "id": "HcdvlT1e0ZGL"
      },
      "source": [
        "## 3.1 Equal"
      ]
    },
    {
      "cell_type": "code",
      "execution_count": null,
      "metadata": {
        "id": "02VpVu9D0ZGM"
      },
      "outputs": [],
      "source": [
        "x == y"
      ]
    },
    {
      "cell_type": "markdown",
      "metadata": {
        "id": "koxhJpFI0ZGM"
      },
      "source": [
        "## 3.2 Not equal"
      ]
    },
    {
      "cell_type": "code",
      "execution_count": null,
      "metadata": {
        "id": "4Yn3fJzc0ZGM"
      },
      "outputs": [],
      "source": [
        "x != y"
      ]
    },
    {
      "cell_type": "markdown",
      "metadata": {
        "id": "p13GVAZQ0ZGN"
      },
      "source": [
        "## 3.3 Greater than"
      ]
    },
    {
      "cell_type": "code",
      "execution_count": null,
      "metadata": {
        "id": "CjA22TZW0ZGN"
      },
      "outputs": [],
      "source": [
        "x > y"
      ]
    },
    {
      "cell_type": "markdown",
      "metadata": {
        "id": "rQmQjZBG0ZGN"
      },
      "source": [
        "## 3.4 Less than"
      ]
    },
    {
      "cell_type": "code",
      "execution_count": null,
      "metadata": {
        "id": "6It3RmKz0ZGN"
      },
      "outputs": [],
      "source": [
        "x < y"
      ]
    },
    {
      "cell_type": "markdown",
      "metadata": {
        "id": "5KCq-m1m0ZGN"
      },
      "source": [
        "## 3.5 Greater than or equal to"
      ]
    },
    {
      "cell_type": "code",
      "execution_count": null,
      "metadata": {
        "id": "3T_VGaES0ZGN"
      },
      "outputs": [],
      "source": [
        "x >= y"
      ]
    },
    {
      "cell_type": "markdown",
      "metadata": {
        "id": "cxd8-SUq0ZGO"
      },
      "source": [
        "## 3.6 Less than or equal to"
      ]
    },
    {
      "cell_type": "code",
      "execution_count": null,
      "metadata": {
        "id": "HJsB51fW0ZGO"
      },
      "outputs": [],
      "source": [
        "x <= y"
      ]
    },
    {
      "cell_type": "markdown",
      "metadata": {
        "id": "Cm5LzEuf0ZGO"
      },
      "source": [
        "# 4. Print\n",
        "Evaluating and display result as an `output`, versus evaluating and printing result (side-effect)."
      ]
    },
    {
      "cell_type": "code",
      "execution_count": null,
      "metadata": {
        "id": "oWpVPIgq0ZGO"
      },
      "outputs": [],
      "source": [
        "print(x)"
      ]
    },
    {
      "cell_type": "code",
      "execution_count": null,
      "metadata": {
        "id": "rG3fal960ZGO"
      },
      "outputs": [],
      "source": [
        "print('Hello World!') "
      ]
    },
    {
      "cell_type": "code",
      "execution_count": null,
      "metadata": {
        "id": "K-LaBITr0ZGO"
      },
      "outputs": [],
      "source": [
        "print(\"\"\"\\\n",
        "Usage: intro [OPTIONS]\n",
        "     -h                        Display this usage message\n",
        "     -H hostname               Hostname to connect to\n",
        "\"\"\")"
      ]
    },
    {
      "cell_type": "markdown",
      "metadata": {
        "id": "6lUQjC090ZGP"
      },
      "source": [
        "# 5. Access items or index\n",
        "One way to remember how slice works\n",
        "<pre>\n",
        "+---+---+---+---+---+---+ \n",
        "| P | y | t | h | o | n | \n",
        "+---+---+---+---+---+---+ \n",
        "  0   1   2   3   4   5\n",
        "</pre>"
      ]
    },
    {
      "cell_type": "code",
      "execution_count": null,
      "metadata": {
        "id": "Qw0meb_M0ZGP"
      },
      "outputs": [],
      "source": [
        "word = 'Python'"
      ]
    },
    {
      "cell_type": "code",
      "execution_count": null,
      "metadata": {
        "id": "Bj8EscHi0ZGP"
      },
      "outputs": [],
      "source": [
        "word[0] # character in position 0"
      ]
    },
    {
      "cell_type": "code",
      "execution_count": null,
      "metadata": {
        "id": "clA2XExL0ZGP"
      },
      "outputs": [],
      "source": [
        "word[5] # character in position 5"
      ]
    },
    {
      "cell_type": "code",
      "execution_count": null,
      "metadata": {
        "id": "RoKkMYEL0ZGP"
      },
      "outputs": [],
      "source": [
        "word[0:2] # characters from position 0 (included) to 2 (excluded)"
      ]
    },
    {
      "cell_type": "code",
      "execution_count": null,
      "metadata": {
        "id": "VWZ1jTqv0ZGP"
      },
      "outputs": [],
      "source": [
        "word[:2] + word[2:] # start and end always excluded -> s[:i] + s[i:]"
      ]
    },
    {
      "cell_type": "markdown",
      "metadata": {
        "id": "_ZiCA3rx0ZGQ"
      },
      "source": [
        "# 6. Lists, dictionaries, and tuples\n",
        "\n",
        "Python has three very useful data structures built into the language:\n",
        "* lists: [1,2,..]\n",
        "* dictionaries (hash tables): {\"Name\": \"Joao\"}\n",
        "* tuples: (item, ...)"
      ]
    },
    {
      "cell_type": "markdown",
      "metadata": {
        "id": "gddAw4IK0ZGQ"
      },
      "source": [
        "## 6.1 List\n",
        "Lists are used to store multiple items in a single variable."
      ]
    },
    {
      "cell_type": "code",
      "execution_count": null,
      "metadata": {
        "id": "jXvOp3Wu0ZGQ"
      },
      "outputs": [],
      "source": [
        "numbers = [1, 4, 9, 16, 25]"
      ]
    },
    {
      "cell_type": "code",
      "execution_count": null,
      "metadata": {
        "id": "GsTQtWnr0ZGQ"
      },
      "outputs": [],
      "source": [
        "numbers[0] # indexing returns the item"
      ]
    },
    {
      "cell_type": "code",
      "execution_count": null,
      "metadata": {
        "id": "E2S55fle0ZGQ"
      },
      "outputs": [],
      "source": [
        "numbers[3:]"
      ]
    },
    {
      "cell_type": "code",
      "execution_count": null,
      "metadata": {
        "id": "T_wYH_uC0ZGR"
      },
      "outputs": [],
      "source": [
        "numbers + [64, 72, 90,104] # concatenation"
      ]
    },
    {
      "cell_type": "code",
      "execution_count": null,
      "metadata": {
        "id": "u01W-yGz0ZGR"
      },
      "outputs": [],
      "source": [
        "numbers[3] = 200 # replace a value in the list\n",
        "numbers"
      ]
    },
    {
      "cell_type": "code",
      "execution_count": null,
      "metadata": {
        "id": "A_s8VR3-0ZGR"
      },
      "outputs": [],
      "source": [
        "numbers.append(100000)\n",
        "numbers"
      ]
    },
    {
      "cell_type": "code",
      "execution_count": null,
      "metadata": {
        "id": "yqhz2N170ZGR"
      },
      "outputs": [],
      "source": [
        "letters = ['a', 'b', 'c', 'd', 'e', 'f', 'g']\n",
        "letters"
      ]
    },
    {
      "cell_type": "code",
      "execution_count": null,
      "metadata": {
        "id": "gOP3Eitu0ZGR"
      },
      "outputs": [],
      "source": [
        "letters[2:5] = ['C', 'D', 'E'] # replace letters\n",
        "letters"
      ]
    },
    {
      "cell_type": "code",
      "execution_count": null,
      "metadata": {
        "id": "VjZ1OTym0ZGR"
      },
      "outputs": [],
      "source": [
        "letters[2:5] = [] # remove them\n",
        "letters"
      ]
    },
    {
      "cell_type": "code",
      "execution_count": null,
      "metadata": {
        "id": "s723Lq8U0ZGR"
      },
      "outputs": [],
      "source": [
        "len(letters)"
      ]
    },
    {
      "cell_type": "code",
      "execution_count": null,
      "metadata": {
        "id": "yQ4jJvft0ZGS"
      },
      "outputs": [],
      "source": [
        "letters[:] = [] # clear the list by replacing all the elements with an empty list\n",
        "letters"
      ]
    },
    {
      "cell_type": "markdown",
      "metadata": {
        "id": "TziYvSRB0ZGS"
      },
      "source": [
        "## 6.2 Nested lists"
      ]
    },
    {
      "cell_type": "code",
      "execution_count": null,
      "metadata": {
        "id": "1MmizQ0h0ZGS"
      },
      "outputs": [],
      "source": [
        "a = ['a', 'b', 'c'] \n",
        "n = [1, 2, 3]"
      ]
    },
    {
      "cell_type": "code",
      "execution_count": null,
      "metadata": {
        "id": "nXhICJkd0ZGS"
      },
      "outputs": [],
      "source": [
        "x = [a, n]\n",
        "x"
      ]
    },
    {
      "cell_type": "code",
      "execution_count": null,
      "metadata": {
        "id": "rYAzuop50ZGS"
      },
      "outputs": [],
      "source": [
        "x[0]"
      ]
    },
    {
      "cell_type": "code",
      "execution_count": null,
      "metadata": {
        "id": "Kegcklv30ZGS"
      },
      "outputs": [],
      "source": [
        "x[0][1]"
      ]
    },
    {
      "cell_type": "markdown",
      "metadata": {
        "id": "L_x44TVV0ZGT"
      },
      "source": [
        "##  6.3 Dictionaries\n",
        "Dictionaries are used to store data values in `key:value pairs`. A dictionary is a collection which is ordered*, changeable and do not allow duplicates."
      ]
    },
    {
      "cell_type": "code",
      "execution_count": null,
      "metadata": {
        "id": "33yextOB0ZGT"
      },
      "outputs": [],
      "source": [
        "mydict = {\n",
        "  \"CowID\": \"8876\",\n",
        "  \"Farmer\": \"Joao\",\n",
        "  \"Birth\": 1964,\n",
        "  \"Weight\": [1800, 1910, 1730]\n",
        "}"
      ]
    },
    {
      "cell_type": "code",
      "execution_count": null,
      "metadata": {
        "id": "XFEXkRhj0ZGT"
      },
      "outputs": [],
      "source": [
        "print(len(mydict))"
      ]
    },
    {
      "cell_type": "code",
      "execution_count": null,
      "metadata": {
        "id": "2_ci4UdW0ZGT"
      },
      "outputs": [],
      "source": [
        "print(mydict)"
      ]
    },
    {
      "cell_type": "code",
      "execution_count": null,
      "metadata": {
        "id": "wIkCkphW0ZGT"
      },
      "outputs": [],
      "source": [
        "print(mydict[\"CowID\"])"
      ]
    },
    {
      "cell_type": "code",
      "execution_count": null,
      "metadata": {
        "id": "0EKHbUf80ZGT"
      },
      "outputs": [],
      "source": [
        "print(mydict[\"CowID\"], mydict[\"Birth\"])"
      ]
    },
    {
      "cell_type": "code",
      "execution_count": null,
      "metadata": {
        "id": "jyj67-s20ZGU"
      },
      "outputs": [],
      "source": [
        "print(\"CowID: \" + mydict[\"CowID\"] + \"\\n\" +\n",
        "      \"Farmer Name: \" + mydict[\"Farmer\"] + \"\\n\" +\n",
        "      \"Body Weight: \" + str(mydict[\"Weight\"][1]))"
      ]
    },
    {
      "cell_type": "markdown",
      "metadata": {
        "id": "UmKd1_-L0ZGU"
      },
      "source": [
        "## 6.4 Tuples\n",
        "Tuples are used to store multiple items in a single variable which is ordered and unchangeable."
      ]
    },
    {
      "cell_type": "code",
      "execution_count": null,
      "metadata": {
        "id": "RsGyNAWd0ZGU"
      },
      "outputs": [],
      "source": [
        "tuple1 = (\"apple\", \"banana\", \"cherry\")"
      ]
    },
    {
      "cell_type": "code",
      "execution_count": null,
      "metadata": {
        "id": "5w26FoMH0ZGU"
      },
      "outputs": [],
      "source": [
        "print(tuple1)"
      ]
    },
    {
      "cell_type": "code",
      "execution_count": null,
      "metadata": {
        "id": "4mGVmJZo0ZGU"
      },
      "outputs": [],
      "source": [
        "tuple2 = (200, 200, 3)"
      ]
    },
    {
      "cell_type": "code",
      "execution_count": null,
      "metadata": {
        "id": "6tQtkXgS0ZGU"
      },
      "outputs": [],
      "source": [
        "print(tuple2)"
      ]
    },
    {
      "cell_type": "markdown",
      "metadata": {
        "id": "eBoAJmrU0ZGV"
      },
      "source": [
        "# 7. Control flow statements"
      ]
    },
    {
      "cell_type": "markdown",
      "metadata": {
        "id": "pKzbo_-x0ZGV"
      },
      "source": [
        "### 7.1 *if, elif, else* statements\n",
        "Perhaps the most well-known statement type is the if statement.\n",
        "There can be zero or more elif parts, and the else part is optional. The keyword ‘elif’ is short for ‘else if’, and is useful to avoid excessive indentation."
      ]
    },
    {
      "cell_type": "code",
      "execution_count": null,
      "metadata": {
        "id": "vhIhsmbs0ZGV"
      },
      "outputs": [],
      "source": [
        "x = 10\n",
        "if x <= 10:\n",
        "    print('The integer is lower than TEN!')"
      ]
    },
    {
      "cell_type": "code",
      "execution_count": null,
      "metadata": {
        "id": "vN1zhbRV0ZGV"
      },
      "outputs": [],
      "source": [
        "x = 10\n",
        "if x <= 10:\n",
        "    print('The integer is lower than TEN!')\n",
        "else:\n",
        "    print('The integer is greater than TEN!')"
      ]
    },
    {
      "cell_type": "code",
      "execution_count": null,
      "metadata": {
        "id": "6_2e3njv0ZGW"
      },
      "outputs": [],
      "source": [
        "x = int(input(\"Please enter an integer from 1-100: \"))\n",
        "if x < 0:\n",
        "    print('The integer is greater than ZERO!') \n",
        "elif x >= 0 and x < 30:\n",
        "    print('The integer is greater than ZERO and lower than 30!')\n",
        "elif x >= 30 and x < 70:\n",
        "    print('The integer is greater than 30 and lower than 70!') \n",
        "else:\n",
        "    print('The integer is greater than 70!')"
      ]
    },
    {
      "cell_type": "markdown",
      "metadata": {
        "id": "j0QuoqEN0ZGW"
      },
      "source": [
        "## 7.2 *for* loop\n",
        "A `for` loop is used for iterating over the items of any sequence (a list or a string), in the order that they appear in the sequence."
      ]
    },
    {
      "cell_type": "code",
      "execution_count": null,
      "metadata": {
        "id": "MrdRYEtv0ZGW"
      },
      "outputs": [],
      "source": [
        "# Measure some strings:\n",
        "words = ['cat', 'dog', 'cow', 'horse']\n",
        "for w in words:\n",
        "    print(w)"
      ]
    },
    {
      "cell_type": "markdown",
      "metadata": {
        "id": "OVPL7x8W0ZGW"
      },
      "source": [
        "## 7.3 *while* loop\n",
        "With the `while` loop we can execute a set of statements as long as a condition is true."
      ]
    },
    {
      "cell_type": "code",
      "execution_count": null,
      "metadata": {
        "id": "xhDBW8uW0ZGW"
      },
      "outputs": [],
      "source": [
        "n = 1\n",
        "while n <= 5:\n",
        "    print('Number: ' + str(n))\n",
        "    n+=1"
      ]
    },
    {
      "cell_type": "markdown",
      "metadata": {
        "id": "Ive7QjhD0ZGW"
      },
      "source": [
        "# 8. Python functions\n",
        "A function is a block of code which only runs when it is called. \n",
        "* You can pass data, known as parameters, into a function. \n",
        "* A function can return data as a result.\n",
        "* If you don't specify a return value, then it will default to returning None."
      ]
    },
    {
      "cell_type": "markdown",
      "metadata": {
        "id": "NCQ9wJKV0ZGX"
      },
      "source": [
        "## 8.1 Creating a function"
      ]
    },
    {
      "cell_type": "code",
      "execution_count": null,
      "metadata": {
        "id": "XM9YmZY60ZGX"
      },
      "outputs": [],
      "source": [
        "def plus(a, b):\n",
        "    x = a + b\n",
        "    return x"
      ]
    },
    {
      "cell_type": "code",
      "execution_count": null,
      "metadata": {
        "id": "ACD6ptEN0ZGX"
      },
      "outputs": [],
      "source": [
        "plus(3, 4)"
      ]
    },
    {
      "cell_type": "markdown",
      "metadata": {
        "id": "wKMryL5H0ZGX"
      },
      "source": [
        "## 8.2 Calling a function"
      ]
    },
    {
      "cell_type": "code",
      "execution_count": null,
      "metadata": {
        "id": "Q26FN4Md0ZGX"
      },
      "outputs": [],
      "source": [
        "import operator"
      ]
    },
    {
      "cell_type": "markdown",
      "metadata": {
        "id": "e7F_QZMV0ZGY"
      },
      "source": [
        "# 9. Read and write data"
      ]
    },
    {
      "cell_type": "markdown",
      "metadata": {
        "id": "2gjfCMNh0ZGY"
      },
      "source": [
        "## 9.1 Read"
      ]
    },
    {
      "cell_type": "code",
      "execution_count": null,
      "metadata": {
        "id": "bG1MdWTi0ZGa"
      },
      "outputs": [],
      "source": [
        "import os\n",
        "import pandas as pd"
      ]
    },
    {
      "cell_type": "code",
      "execution_count": null,
      "metadata": {
        "id": "1Ds808a00ZGa"
      },
      "outputs": [],
      "source": [
        "data1 = pd.read_csv('data.csv')"
      ]
    },
    {
      "cell_type": "code",
      "execution_count": null,
      "metadata": {
        "id": "Z28RK90E0ZGb"
      },
      "outputs": [],
      "source": [
        "data1"
      ]
    },
    {
      "cell_type": "code",
      "execution_count": null,
      "metadata": {
        "id": "TBMzCjmL0ZGb"
      },
      "outputs": [],
      "source": [
        "data2 = pd.read_table('data.csv', delimiter=',')"
      ]
    },
    {
      "cell_type": "code",
      "execution_count": null,
      "metadata": {
        "id": "leXw9E1B0ZGb"
      },
      "outputs": [],
      "source": [
        "data2"
      ]
    },
    {
      "cell_type": "markdown",
      "metadata": {
        "id": "ggbGcBvc0ZGb"
      },
      "source": [
        "## 9.2 Write"
      ]
    },
    {
      "cell_type": "code",
      "execution_count": null,
      "metadata": {
        "id": "gwEdwa570ZGb"
      },
      "outputs": [],
      "source": [
        "data1.to_csv('dataNew.csv', sep=',', header = True, index = False)"
      ]
    },
    {
      "cell_type": "code",
      "execution_count": null,
      "metadata": {
        "id": "2B20nJlY0ZGb"
      },
      "outputs": [],
      "source": [
        "os.listdir('.') # list files"
      ]
    },
    {
      "cell_type": "code",
      "execution_count": null,
      "metadata": {
        "id": "y_pAUM6E0ZGc"
      },
      "outputs": [],
      "source": [
        "data1.to_csv('dataNew.txt', sep=' ', header = True, index = False)"
      ]
    },
    {
      "cell_type": "code",
      "execution_count": null,
      "metadata": {
        "id": "QuoThmMN0ZGc"
      },
      "outputs": [],
      "source": [
        "os.listdir('.') # list files"
      ]
    },
    {
      "cell_type": "markdown",
      "metadata": {
        "id": "_AM0_rOt0ZGc"
      },
      "source": [
        "# 10. Read and write images"
      ]
    },
    {
      "cell_type": "markdown",
      "metadata": {
        "id": "Q0VrtdLx0ZGc"
      },
      "source": [
        "## 10.1 Read\n"
      ]
    },
    {
      "cell_type": "code",
      "execution_count": null,
      "metadata": {
        "id": "B0r44T1m0ZGc"
      },
      "outputs": [],
      "source": [
        "from skimage.io import imread, imshow, imsave"
      ]
    },
    {
      "cell_type": "code",
      "execution_count": null,
      "metadata": {
        "id": "P2qnP5ox0ZGc"
      },
      "outputs": [],
      "source": [
        "image = imread(r'cow.jpg')"
      ]
    },
    {
      "cell_type": "code",
      "execution_count": null,
      "metadata": {
        "id": "y1J66FMN0ZGc"
      },
      "outputs": [],
      "source": [
        "image.shape"
      ]
    },
    {
      "cell_type": "markdown",
      "metadata": {
        "id": "MUcXAZQr0ZGd"
      },
      "source": [
        "## 10.2 Visualize image"
      ]
    },
    {
      "cell_type": "code",
      "execution_count": null,
      "metadata": {
        "id": "Tajn8bdL0ZGd"
      },
      "outputs": [],
      "source": [
        "import matplotlib.pyplot as plt"
      ]
    },
    {
      "cell_type": "code",
      "execution_count": null,
      "metadata": {
        "id": "jH8pxeSZ0ZGd"
      },
      "outputs": [],
      "source": [
        "%matplotlib inline"
      ]
    },
    {
      "cell_type": "code",
      "execution_count": null,
      "metadata": {
        "id": "2oq4eekp0ZGd"
      },
      "outputs": [],
      "source": [
        "im = plt.imshow(image)"
      ]
    },
    {
      "cell_type": "markdown",
      "metadata": {
        "id": "BrXg-3Zv0ZGd"
      },
      "source": [
        "## 10.3 Write"
      ]
    },
    {
      "cell_type": "code",
      "execution_count": null,
      "metadata": {
        "id": "S6sUHPzH0ZGd"
      },
      "outputs": [],
      "source": [
        "imsave(\"cowNew.png\", image)"
      ]
    },
    {
      "cell_type": "code",
      "execution_count": null,
      "metadata": {
        "id": "E422b69e0ZGd"
      },
      "outputs": [],
      "source": [
        "os.listdir('.') # list files"
      ]
    },
    {
      "cell_type": "markdown",
      "metadata": {
        "id": "B69nWiLr0ZGe"
      },
      "source": [
        "# 11. References\n",
        "* https://www.python.org/\n",
        "* https://www.w3schools.com/python/default.asp"
      ]
    },
    {
      "cell_type": "code",
      "execution_count": null,
      "metadata": {
        "id": "smIi3HWV0ZGe"
      },
      "outputs": [],
      "source": []
    }
  ],
  "metadata": {
    "kernelspec": {
      "display_name": "Python 3 (ipykernel)",
      "language": "python",
      "name": "python3"
    },
    "language_info": {
      "codemirror_mode": {
        "name": "ipython",
        "version": 3
      },
      "file_extension": ".py",
      "mimetype": "text/x-python",
      "name": "python",
      "nbconvert_exporter": "python",
      "pygments_lexer": "ipython3",
      "version": "3.9.7"
    },
    "colab": {
      "provenance": []
    }
  },
  "nbformat": 4,
  "nbformat_minor": 0
}