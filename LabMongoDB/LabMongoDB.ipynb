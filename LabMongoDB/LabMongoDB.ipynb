{
  "nbformat": 4,
  "nbformat_minor": 0,
  "metadata": {
    "colab": {
      "provenance": []
    },
    "kernelspec": {
      "name": "python3",
      "display_name": "Python 3"
    },
    "language_info": {
      "name": "python"
    }
  },
  "cells": [
    {
      "cell_type": "code",
      "source": [
        "!pip install pymongo\n",
        "!apt install mongodb >log\n",
        "!service mongodb start\n",
        "!git clone https://github.com/referreira-wisc/digag2022.git"
      ],
      "metadata": {
        "id": "1lZ5x5NE5I6K"
      },
      "execution_count": null,
      "outputs": []
    },
    {
      "cell_type": "code",
      "source": [
        "import os\n",
        "os.chdir('digag2022/LabMongoDB')"
      ],
      "metadata": {
        "id": "3EXRMFHg5X0m"
      },
      "execution_count": null,
      "outputs": []
    },
    {
      "cell_type": "code",
      "source": [
        "from pymongo import MongoClient\n",
        "import pprint"
      ],
      "metadata": {
        "id": "6Lvc4NqD5uHP"
      },
      "execution_count": null,
      "outputs": []
    },
    {
      "cell_type": "code",
      "source": [
        "#To establish a connection to a database, you need to create a MongoClient instance. \n",
        "# We could also use:\n",
        "#client = MongoClient(\"mongodb://localhost:27017\")\n",
        "# or\n",
        "# client = MongoClient(host=\"localhost\", port=27017)\n",
        "client = MongoClient()\n",
        "client"
      ],
      "metadata": {
        "id": "yv_329vt5v52"
      },
      "execution_count": null,
      "outputs": []
    },
    {
      "cell_type": "code",
      "source": [
        "#To define which database you want to use, you can use the dot notation.\n",
        "#In this case, rptutorials is the name of the database you’ll be working with. \n",
        "# If the database doesn’t exist, then MongoDB creates it for you, \n",
        "# but only when you perform the first operation on the database.\n",
        "#You can also use dictionary-style access: db = client[\"rptutorials\"]\n",
        "db = client.rptutorials2\n",
        "db"
      ],
      "metadata": {
        "id": "XDQTKT9k65Qv"
      },
      "execution_count": null,
      "outputs": []
    },
    {
      "cell_type": "code",
      "source": [
        "# Let's create our documents. We will use dictionaries to create the documents:\n",
        "\n",
        "tutorial1 = {\n",
        "    \"title\": \"Working With JSON Data in Python\",\n",
        "    \"author\": \"Lucas\",\n",
        "    \"contributors\": [\n",
        "        \"Aldren\",\n",
        "        \"Dan\",\n",
        "        \"Joanna\"\n",
        "    ],\n",
        "    \"url\": \"https://realpython.com/python-json/\"\n",
        "}"
      ],
      "metadata": {
        "id": "PI01MSCL9Nhr"
      },
      "execution_count": null,
      "outputs": []
    },
    {
      "cell_type": "code",
      "source": [
        "# Once you’ve created the document as a dictionary, you need to specify which collection you want to use. \n",
        "# To do that, you can use the dot notation on the database object:\n",
        "tutorial = db.tutorial\n",
        "tutorial"
      ],
      "metadata": {
        "id": "FmQU5nhV9Rul"
      },
      "execution_count": null,
      "outputs": []
    },
    {
      "cell_type": "code",
      "source": [
        "#In this case, tutorial is an instance of Collection and represents a physical collection of documents in your database.\n",
        "result = tutorial.insert_one(tutorial1)\n",
        "result"
      ],
      "metadata": {
        "id": "YPqDoQW6-jeD"
      },
      "execution_count": null,
      "outputs": []
    },
    {
      "cell_type": "code",
      "source": [
        "print(f\"One tutorial: {result.inserted_id}\")"
      ],
      "metadata": {
        "id": "bILUgUEQ-qa8"
      },
      "execution_count": null,
      "outputs": []
    },
    {
      "cell_type": "code",
      "source": [
        "# We can insert many documents in a collection. Let's create the documents first.\n",
        "tutorial2 = {\n",
        "    \"title\": \"Python's Requests Library (Guide)\",\n",
        "    \"author\": \"Alex\",\n",
        "    \"contributors\": [\n",
        "        \"Aldren\",\n",
        "        \"Brad\",\n",
        "        \"Joanna\"\n",
        "    ],\n",
        "    \"url\": \"https://realpython.com/python-requests/\"\n",
        "}\n",
        "\n",
        "tutorial3 = {\n",
        "    \"title\": \"Object-Oriented Programming (OOP) in Python 3\",\n",
        "    \"author\": \"David\",\n",
        "    \"contributors\": [\n",
        "        \"Aldren\",\n",
        "        \"Joanna\",\n",
        "        \"Jacob\"\n",
        "    ],\n",
        "    \"url\": \"https://realpython.com/python3-object-oriented-programming/\"\n",
        "}"
      ],
      "metadata": {
        "id": "dgiz_bB5-q0W"
      },
      "execution_count": null,
      "outputs": []
    },
    {
      "cell_type": "code",
      "source": [
        "# Here we can use \"insert_many\" to insert the documents.\n",
        "new_result = tutorial.insert_many([tutorial2, tutorial3])\n",
        "print(f\"Multiple tutorials: {new_result.inserted_ids}\")"
      ],
      "metadata": {
        "id": "OotRIwjH-uaZ"
      },
      "execution_count": null,
      "outputs": []
    },
    {
      "cell_type": "code",
      "source": [
        "#Let's retrieve documents from a collection.\n",
        "for doc in tutorial.find():\n",
        "    pprint.pprint(doc)"
      ],
      "metadata": {
        "id": "OVWdGN0--wpx"
      },
      "execution_count": null,
      "outputs": []
    },
    {
      "cell_type": "code",
      "source": [
        "#We can also retrieve a single document. In this case, we can use a dictionary that contains fields to match. \n",
        "jon_tutorial = tutorial.find_one({\"author\": \"Alex\"})\n",
        "pprint.pprint(jon_tutorial)"
      ],
      "metadata": {
        "id": "MJKnEl1x-1Ji"
      },
      "execution_count": null,
      "outputs": []
    }
  ]
}