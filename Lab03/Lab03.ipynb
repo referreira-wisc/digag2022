{
  "cells": [
    {
      "cell_type": "code",
      "source": [
        "!git clone https://github.com/referreira-wisc/digag2022.git"
      ],
      "metadata": {
        "id": "aPQOWWbv76GO"
      },
      "id": "aPQOWWbv76GO",
      "execution_count": null,
      "outputs": []
    },
    {
      "cell_type": "code",
      "source": [
        "import os\n",
        "os.chdir('digag2022/Lab03')"
      ],
      "metadata": {
        "id": "IaAt3oCT76_0"
      },
      "id": "IaAt3oCT76_0",
      "execution_count": null,
      "outputs": []
    },
    {
      "cell_type": "markdown",
      "metadata": {
        "id": "kOs_Hh8c73Yy"
      },
      "source": [
        "# <center> Advanced Digital Agriculture (DS/AS 875) <center> Module 01 - Data Analysis (Lab 03)\n",
        "***\n",
        "# Table of Contents\n",
        "* [READING THE DATASET INTO PYTHON](#READING-THE-DATASET-INTO-PYTHON)\n",
        "* [DATA EDITING](#DATA-EDITING)\n",
        "    * [Creating dummy variables (One-Hot Encode)](#Creating-dummy-variables-(One-Hot-Encode))\n",
        "    * [Creating training and testing datasets](#Creating-training-and-testing-datasets)\n",
        "* [PARTIAL LEAST SQUARE](#PARTIAL-LEAST-SQUARE)\n",
        "    * [Training (GridSearch)](#Training-(GridSearch))\n",
        "    * [Testing](#Testing)\n",
        "* [RIDGE REGRESSION](#RIDGE-REGRESSION)\n",
        "    * [Training (GridSearch)](#Training-(GridSearch))\n",
        "    * [Testing](#Testing)\n",
        "* [NEURAL NETWORK](#NEURAL-NETWORK)\n",
        "    * [Data pre-processing](#Data-pre-processing)\n",
        "    * [Training (GridSearch)](#Training-(GridSearch))\n",
        "    * [Testing](#Testing)\n",
        "***"
      ],
      "id": "kOs_Hh8c73Yy"
    },
    {
      "cell_type": "markdown",
      "metadata": {
        "id": "1cEdF48k73Y3"
      },
      "source": [
        "## READING THE DATASET INTO PYTHON"
      ],
      "id": "1cEdF48k73Y3"
    },
    {
      "cell_type": "code",
      "execution_count": null,
      "metadata": {
        "id": "-P8Cy6aY73Y3"
      },
      "outputs": [],
      "source": [
        "import pandas as pd\n",
        "import warnings\n",
        "warnings.filterwarnings('ignore')\n",
        "cowdata = pd.read_csv(\"CullDairyCow_Data.csv\")\n",
        "cowdata"
      ],
      "id": "-P8Cy6aY73Y3"
    },
    {
      "cell_type": "markdown",
      "metadata": {
        "id": "QI_fsQKy73Y7"
      },
      "source": [
        "## DATA EDITING"
      ],
      "id": "QI_fsQKy73Y7"
    },
    {
      "cell_type": "code",
      "execution_count": null,
      "metadata": {
        "id": "RBOhsWSW73Y8"
      },
      "outputs": [],
      "source": [
        "# Frequency for number of lactations\n",
        "cowdata[\"lact\"].value_counts(sort=True, ascending=False)"
      ],
      "id": "RBOhsWSW73Y8"
    },
    {
      "cell_type": "code",
      "execution_count": null,
      "metadata": {
        "id": "IXqiRj_w73Y8"
      },
      "outputs": [],
      "source": [
        "# Lactation number 6 or higher lumped together into a single class (6)\n",
        "cowdata.loc[cowdata.lact > 6, \"lact\"] = 6"
      ],
      "id": "IXqiRj_w73Y8"
    },
    {
      "cell_type": "code",
      "execution_count": null,
      "metadata": {
        "id": "LHWhqFz173Y9"
      },
      "outputs": [],
      "source": [
        "# Frequency for number of lamness cases\n",
        "cowdata[\"lameness\"].value_counts(sort=True, ascending=False)"
      ],
      "id": "LHWhqFz173Y9"
    },
    {
      "cell_type": "code",
      "execution_count": null,
      "metadata": {
        "id": "yjndwteP73Y-"
      },
      "outputs": [],
      "source": [
        "# Number of lamness cases larger than 4 lumped together into a single class (4)\n",
        "cowdata.loc[cowdata.lameness > 4, \"lameness\"] = 4"
      ],
      "id": "yjndwteP73Y-"
    },
    {
      "cell_type": "code",
      "execution_count": null,
      "metadata": {
        "id": "2faD_zMF73Y_"
      },
      "outputs": [],
      "source": [
        "# Frequency for number of lamness cases\n",
        "cowdata[\"mastitis\"].value_counts(sort=True, ascending=False)"
      ],
      "id": "2faD_zMF73Y_"
    },
    {
      "cell_type": "code",
      "execution_count": null,
      "metadata": {
        "id": "xFAC_9xk73Y_"
      },
      "outputs": [],
      "source": [
        "# Number of mastitis cases larger than 4 lumped together into a single class (4)\n",
        "cowdata.loc[cowdata.mastitis > 4, \"mastitis\"] = 4"
      ],
      "id": "xFAC_9xk73Y_"
    },
    {
      "cell_type": "markdown",
      "metadata": {
        "id": "GWJHBFhq73ZA"
      },
      "source": [
        "## Creating dummy variables (One-Hot Encode)"
      ],
      "id": "GWJHBFhq73ZA"
    },
    {
      "cell_type": "code",
      "execution_count": null,
      "metadata": {
        "id": "aekcxkcD73ZA"
      },
      "outputs": [],
      "source": [
        "cowdata['reason'].value_counts(sort=True, ascending=False)"
      ],
      "id": "aekcxkcD73ZA"
    },
    {
      "cell_type": "code",
      "execution_count": null,
      "metadata": {
        "id": "lBrl6FV773ZB"
      },
      "outputs": [],
      "source": [
        "# Defining dummy variables\n",
        "cowdata_oh = pd.get_dummies(cowdata, columns=[\"season\", \"lact\", \"calvingEase\", \"lameness\", \"mastitis\", \"reason\", \"lactStage\"], drop_first=False)\n",
        "cowdata_oh"
      ],
      "id": "lBrl6FV773ZB"
    },
    {
      "cell_type": "markdown",
      "metadata": {
        "id": "kpKV-NKf73ZB"
      },
      "source": [
        "## Creating training and testing datasets"
      ],
      "id": "kpKV-NKf73ZB"
    },
    {
      "cell_type": "code",
      "execution_count": null,
      "metadata": {
        "id": "awX4PZeP73ZC"
      },
      "outputs": [],
      "source": [
        "# Adding continuous variables (305ME and BW) to the 30 dummy columns\n",
        "x = pd.concat([cowdata_oh.loc[:,'305ME'], cowdata_oh.loc[:,'BW':]], axis=1)\n",
        "x"
      ],
      "id": "awX4PZeP73ZC"
    },
    {
      "cell_type": "code",
      "execution_count": null,
      "metadata": {
        "id": "AWRaw_MB73ZC"
      },
      "outputs": [],
      "source": [
        "print(x.columns.tolist())"
      ],
      "id": "AWRaw_MB73ZC"
    },
    {
      "cell_type": "code",
      "source": [
        "# Center and Standardize all features (force mean=0 and standard deviation=1)\n",
        "x_std = pd.concat([cowdata_oh.loc[:,'305ME'], cowdata_oh.loc[:,'BW':]], axis=1)\n",
        "x_std = (x_std - x_std.mean()) / x_std.std() # Subtract mean and divide by standard deviation\n",
        "x_std"
      ],
      "metadata": {
        "id": "naV_hUMCPEm0"
      },
      "id": "naV_hUMCPEm0",
      "execution_count": null,
      "outputs": []
    },
    {
      "cell_type": "code",
      "execution_count": null,
      "metadata": {
        "id": "-f-kOe-J73ZC"
      },
      "outputs": [],
      "source": [
        "# Response variable vector\n",
        "y = cowdata_oh[[\"price\"]]\n",
        "y"
      ],
      "id": "-f-kOe-J73ZC"
    },
    {
      "cell_type": "code",
      "execution_count": null,
      "metadata": {
        "id": "s8hTHl5i73ZD"
      },
      "outputs": [],
      "source": [
        "# Split the data set into training (70%) and testing (30%)\n",
        "from sklearn.model_selection import train_test_split\n",
        "x_train, x_test, y_train, y_test = train_test_split(x_std, y, test_size=0.30, shuffle=True, random_state=40)\n",
        "print(\"N. samples training %s , N. samples testing %s\" % (x_train.shape[0], x_test.shape[0]))"
      ],
      "id": "s8hTHl5i73ZD"
    },
    {
      "cell_type": "markdown",
      "metadata": {
        "id": "x9YymKW073ZD"
      },
      "source": [
        "# PARTIAL LEAST SQUARE"
      ],
      "id": "x9YymKW073ZD"
    },
    {
      "cell_type": "markdown",
      "metadata": {
        "id": "BAeKEukg73ZD"
      },
      "source": [
        "##  Training (GridSearch)"
      ],
      "id": "BAeKEukg73ZD"
    },
    {
      "cell_type": "code",
      "execution_count": null,
      "metadata": {
        "id": "CmW0pQLb73ZE"
      },
      "outputs": [],
      "source": [
        "# GridSearch using k-fold cross-validation\n",
        "from sklearn.cross_decomposition import PLSRegression\n",
        "from sklearn.model_selection import GridSearchCV\n",
        "nfolds = 3\n",
        "metrics = ('r2', 'neg_mean_absolute_error', 'neg_root_mean_squared_error')\n",
        "parameters = {'n_components':[1, 3, 5]}\n",
        "pls = PLSRegression()\n",
        "pls = GridSearchCV(pls, parameters, scoring=metrics, cv=nfolds, refit = metrics[2], return_train_score = True)\n",
        "pls.fit(x_train, y_train)"
      ],
      "id": "CmW0pQLb73ZE"
    },
    {
      "cell_type": "code",
      "execution_count": null,
      "metadata": {
        "id": "nizip6fz73ZE"
      },
      "outputs": [],
      "source": [
        "# Matrics - training\n",
        "pd.DataFrame({'N. Components': pls.cv_results_[\"param_n_components\"], \n",
        "              'R2': pls.cv_results_[\"mean_test_r2\"], \n",
        "              'MAE': abs(pls.cv_results_['mean_test_neg_mean_absolute_error']),\n",
        "              'RMSE': abs(pls.cv_results_['mean_test_neg_root_mean_squared_error'])})"
      ],
      "id": "nizip6fz73ZE"
    },
    {
      "cell_type": "markdown",
      "metadata": {
        "id": "puXxW1dE73ZF"
      },
      "source": [
        "## Testing"
      ],
      "id": "puXxW1dE73ZF"
    },
    {
      "cell_type": "code",
      "execution_count": null,
      "metadata": {
        "id": "1i69w4y673ZF"
      },
      "outputs": [],
      "source": [
        "# Print best number of components and RMSE, and testing the best model using the test set\n",
        "print(\"Best N. Components: %s, RMSE: %.6f\" % (pls.best_params_['n_components'], abs(pls.best_score_)))\n",
        "ypred = pls.best_estimator_.predict(x_test)"
      ],
      "id": "1i69w4y673ZF"
    },
    {
      "cell_type": "code",
      "execution_count": null,
      "metadata": {
        "id": "KqNBg4_T73ZG"
      },
      "outputs": [],
      "source": [
        "# Scatter plot - predicted and observed\n",
        "import matplotlib.pyplot as plt\n",
        "import numpy as np\n",
        "ypred = np.ravel(ypred)\n",
        "plt.plot(ypred, y_test, 'o')\n",
        "m, b = np.polyfit(ypred, y_test, 1)\n",
        "plt.plot(ypred, m*ypred + b)"
      ],
      "id": "KqNBg4_T73ZG"
    },
    {
      "cell_type": "code",
      "execution_count": null,
      "metadata": {
        "id": "lpGisQGf73ZG"
      },
      "outputs": [],
      "source": [
        "# Metrics - testing\n",
        "from sklearn.metrics import *\n",
        "\n",
        "pd.DataFrame({'N. Components': [pls.best_params_['n_components']], \n",
        "              'R2': r2_score(y_test, ypred), \n",
        "              'MAE': [mean_absolute_error(y_test, ypred)],\n",
        "              'RMSE': [mean_squared_error(y_test, ypred, squared=False)]})"
      ],
      "id": "lpGisQGf73ZG"
    },
    {
      "cell_type": "markdown",
      "metadata": {
        "id": "nbRxdptY73ZG"
      },
      "source": [
        "# RIDGE REGRESSION"
      ],
      "id": "nbRxdptY73ZG"
    },
    {
      "cell_type": "markdown",
      "metadata": {
        "id": "nhn08I6573ZG"
      },
      "source": [
        "## Training (GridSearch)"
      ],
      "id": "nhn08I6573ZG"
    },
    {
      "cell_type": "code",
      "execution_count": null,
      "metadata": {
        "id": "9c_ApkUT73ZH"
      },
      "outputs": [],
      "source": [
        "# GridSearch using k-fold cross-validation\n",
        "from sklearn.linear_model import Ridge\n",
        "from sklearn.model_selection import GridSearchCV\n",
        "nfolds = 3\n",
        "metrics = ('r2', 'neg_mean_absolute_error', 'neg_root_mean_squared_error')\n",
        "parameters = {'alpha':[0, 0.3, 0.8]}\n",
        "rr = Ridge()\n",
        "rr = GridSearchCV(rr, parameters, scoring=metrics, cv=nfolds, refit = metrics[2], return_train_score = True)\n",
        "rr.fit(x_train, y_train)"
      ],
      "id": "9c_ApkUT73ZH"
    },
    {
      "cell_type": "code",
      "execution_count": null,
      "metadata": {
        "id": "qhRaiHv873ZH"
      },
      "outputs": [],
      "source": [
        "# Matrics - training\n",
        "pd.DataFrame({'Alpha': rr.cv_results_[\"param_alpha\"], \n",
        "              'R2': rr.cv_results_[\"mean_test_r2\"], \n",
        "              'MAE': abs(rr.cv_results_['mean_test_neg_mean_absolute_error']),\n",
        "              'RMSE': abs(rr.cv_results_['mean_test_neg_root_mean_squared_error'])})"
      ],
      "id": "qhRaiHv873ZH"
    },
    {
      "cell_type": "markdown",
      "metadata": {
        "id": "ASaTTr6r73ZH"
      },
      "source": [
        "## Testing"
      ],
      "id": "ASaTTr6r73ZH"
    },
    {
      "cell_type": "code",
      "execution_count": null,
      "metadata": {
        "id": "RY3GoFpg73ZH"
      },
      "outputs": [],
      "source": [
        "# Print best alpha and RMSE, and testing the best model using the test set\n",
        "print(\"Best Alpha: %.1f, RMSE: %.6f\" % (rr.best_params_['alpha'], abs(rr.best_score_)))\n",
        "ypred = rr.best_estimator_.predict(x_test)"
      ],
      "id": "RY3GoFpg73ZH"
    },
    {
      "cell_type": "code",
      "execution_count": null,
      "metadata": {
        "id": "OcnoGMT573ZH"
      },
      "outputs": [],
      "source": [
        "# Scatter plot - predicted and observed\n",
        "import matplotlib.pyplot as plt\n",
        "import numpy as np\n",
        "ypred = np.ravel(ypred)\n",
        "plt.plot(ypred, y_test, 'o')\n",
        "m, b = np.polyfit(ypred, y_test, 1)\n",
        "plt.plot(ypred, m*ypred + b)"
      ],
      "id": "OcnoGMT573ZH"
    },
    {
      "cell_type": "code",
      "execution_count": null,
      "metadata": {
        "id": "TToXK1t073ZI"
      },
      "outputs": [],
      "source": [
        "# Metrics - testing\n",
        "from sklearn.metrics import *\n",
        "\n",
        "pd.DataFrame({'Alpha': [rr.best_params_['alpha']], \n",
        "              'R2': r2_score(y_test, ypred), \n",
        "              'MAE': [abs(mean_absolute_error(y_test, ypred))],\n",
        "              'RMSE': [abs(mean_squared_error(y_test, ypred, squared=False))]})"
      ],
      "id": "TToXK1t073ZI"
    },
    {
      "cell_type": "markdown",
      "metadata": {
        "id": "fS20VhiI73ZI"
      },
      "source": [
        "# NEURAL NETWORKS"
      ],
      "id": "fS20VhiI73ZI"
    },
    {
      "cell_type": "markdown",
      "metadata": {
        "id": "zg2H79C473ZI"
      },
      "source": [
        "## Data pre-processing"
      ],
      "id": "zg2H79C473ZI"
    },
    {
      "cell_type": "code",
      "execution_count": null,
      "metadata": {
        "id": "uAPal_YS73ZI"
      },
      "outputs": [],
      "source": [
        "# Response variable vector\n",
        "y = cowdata_oh[[\"price\"]]\n",
        "y"
      ],
      "id": "uAPal_YS73ZI"
    },
    {
      "cell_type": "markdown",
      "metadata": {
        "id": "5t3ZMUKU73ZJ"
      },
      "source": [
        "##  Training (GridSearch)"
      ],
      "id": "5t3ZMUKU73ZJ"
    },
    {
      "cell_type": "code",
      "execution_count": null,
      "metadata": {
        "id": "LmwlfqaR73ZJ"
      },
      "outputs": [],
      "source": [
        "# GridSearch using k-fold cross-validation\n",
        "from sklearn.neural_network import MLPRegressor\n",
        "from sklearn.model_selection import GridSearchCV\n",
        "nfolds = 3\n",
        "metrics = ('r2', 'neg_mean_absolute_error', 'neg_root_mean_squared_error')\n",
        "parameters = {'activation':('relu', 'tanh'), \n",
        "              'hidden_layer_sizes': [(100,80),(120,100),(180,120)],\n",
        "              'random_state':[40]}\n",
        "\n",
        "nn = MLPRegressor()\n",
        "nn = GridSearchCV(nn, parameters, scoring=metrics, cv=nfolds, refit = metrics[2], return_train_score = True)\n",
        "nn.fit(x_train, y_train)"
      ],
      "id": "LmwlfqaR73ZJ"
    },
    {
      "cell_type": "code",
      "execution_count": null,
      "metadata": {
        "id": "qnn8eHyr73ZJ"
      },
      "outputs": [],
      "source": [
        "# Matrics - training\n",
        "pd.DataFrame({'Activation': nn.cv_results_[\"param_activation\"],\n",
        "              'Layer Sizes': nn.cv_results_['param_hidden_layer_sizes'],\n",
        "              'R2': nn.cv_results_[\"mean_test_r2\"], \n",
        "              'MAE': abs(nn.cv_results_['mean_test_neg_mean_absolute_error']),\n",
        "              'RMSE': abs(nn.cv_results_['mean_test_neg_root_mean_squared_error'])})"
      ],
      "id": "qnn8eHyr73ZJ"
    },
    {
      "cell_type": "markdown",
      "metadata": {
        "id": "O5i5-w1n73ZJ"
      },
      "source": [
        "## Testing"
      ],
      "id": "O5i5-w1n73ZJ"
    },
    {
      "cell_type": "code",
      "execution_count": null,
      "metadata": {
        "id": "__T4yx7j73ZK"
      },
      "outputs": [],
      "source": [
        "# Print best activation function, layer size, and RMSE, and testing the best model using the test set\n",
        "print(\"Best Activation: %s, Layer Size: %s, RMSE: %.6f\" % (nn.best_params_['activation'], nn.best_params_['hidden_layer_sizes'], abs(nn.best_score_)))\n",
        "ypred = nn.best_estimator_.predict(x_test)"
      ],
      "id": "__T4yx7j73ZK"
    },
    {
      "cell_type": "code",
      "execution_count": null,
      "metadata": {
        "id": "QjvugfYg73ZK"
      },
      "outputs": [],
      "source": [
        "# Scatter plot - predicted and observed\n",
        "import matplotlib.pyplot as plt\n",
        "import numpy as np\n",
        "ypred = np.ravel(ypred)\n",
        "plt.plot(ypred, y_test, 'o')\n",
        "m, b = np.polyfit(ypred, y_test, 1)\n",
        "plt.plot(ypred, m*ypred + b)"
      ],
      "id": "QjvugfYg73ZK"
    },
    {
      "cell_type": "code",
      "execution_count": null,
      "metadata": {
        "id": "BTi9cX7c73ZK"
      },
      "outputs": [],
      "source": [
        "# Metrics - testing\n",
        "from sklearn.metrics import *\n",
        "\n",
        "pd.DataFrame({'Activation': [nn.best_params_['activation']],\n",
        "              'Layer Size': [nn.best_params_['hidden_layer_sizes']],\n",
        "              'R2': r2_score(y_test, ypred), \n",
        "              'MAE': [abs(mean_absolute_error(y_test, ypred))],\n",
        "              'RMSE': [abs(mean_squared_error(y_test, ypred, squared=False))]})"
      ],
      "id": "BTi9cX7c73ZK"
    }
  ],
  "metadata": {
    "kernelspec": {
      "display_name": "Python 3",
      "language": "python",
      "name": "python3"
    },
    "language_info": {
      "codemirror_mode": {
        "name": "ipython",
        "version": 3
      },
      "file_extension": ".py",
      "mimetype": "text/x-python",
      "name": "python",
      "nbconvert_exporter": "python",
      "pygments_lexer": "ipython3",
      "version": "3.6.13"
    },
    "colab": {
      "provenance": []
    }
  },
  "nbformat": 4,
  "nbformat_minor": 5
}