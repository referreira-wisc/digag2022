{
 "cells": [
  {
   "cell_type": "markdown",
   "metadata": {},
   "source": [
    "### Imports"
   ]
  },
  {
   "cell_type": "code",
   "execution_count": null,
   "metadata": {},
   "outputs": [],
   "source": [
    "import numpy as np\n",
    "import matplotlib.pyplot as plt\n",
    "from matplotlib.patches import Rectangle"
   ]
  },
  {
   "cell_type": "markdown",
   "metadata": {},
   "source": [
    "### Open Hyperspectral images"
   ]
  },
  {
   "cell_type": "code",
   "execution_count": null,
   "metadata": {},
   "outputs": [],
   "source": [
    "leaves_sample = np.fromfile('C:/Users/repfe/Desktop/alfalfa3leaves_2_FX17.raw', dtype=np.uint16).reshape((1533, 224, 640))\n",
    "stem_sample = np.fromfile('C:/Users/repfe/Desktop/alfalfa3stems_2_FX17.raw', dtype=np.uint16).reshape((1531, 224, 640))"
   ]
  },
  {
   "cell_type": "markdown",
   "metadata": {},
   "source": [
    "### Let's extract just the first band of each sample to plot images"
   ]
  },
  {
   "cell_type": "code",
   "execution_count": null,
   "metadata": {},
   "outputs": [],
   "source": [
    "imband1 = leaves_sample[:,0,:]\n",
    "imband2 = stem_sample[:,0,:]\n",
    "fig, ax = plt.subplots(1, 2, figsize=(16, 36))\n",
    "ax[0].imshow(imband1)\n",
    "ax[1].imshow(imband2)"
   ]
  },
  {
   "cell_type": "markdown",
   "metadata": {},
   "source": [
    "### Extract regions of interest from images"
   ]
  },
  {
   "cell_type": "code",
   "execution_count": null,
   "metadata": {},
   "outputs": [],
   "source": [
    "region1 = (226, 340, 52, 52)\n",
    "region2 = (361, 327, 11, 36)\n",
    "fig, ax = plt.subplots(1, 2, figsize=(16, 36))\n",
    "ax[0].imshow(imband1)\n",
    "ax[0].add_patch(Rectangle((region1[0], region1[1]), region1[2], region1[3], edgecolor='red', fill=False, lw=2))\n",
    "ax[1].imshow(imband2)\n",
    "ax[1].add_patch(Rectangle((region2[0], region2[1]), region2[2], region2[3], edgecolor='red', fill=False, lw=2))"
   ]
  },
  {
   "cell_type": "code",
   "execution_count": null,
   "metadata": {},
   "outputs": [],
   "source": [
    "roi1 = leaves_sample[region1[1]:region1[1]+region1[3], :, region1[0]:region1[0]+region1[2]]\n",
    "roi2 = stem_sample[region2[1]:region2[1]+region2[3], :, region2[0]:region2[0]+region2[2]]\n",
    "fig, ax = plt.subplots(1, 2)\n",
    "ax[0].imshow(roi1[:,0,:])\n",
    "ax[1].imshow(roi2[:,0,:])"
   ]
  },
  {
   "cell_type": "markdown",
   "metadata": {},
   "source": [
    "### Average spectral data for each region"
   ]
  },
  {
   "cell_type": "code",
   "execution_count": null,
   "metadata": {},
   "outputs": [],
   "source": [
    "leaf = np.mean(roi1, axis=(0,2))\n",
    "stem = np.mean(roi2, axis=(0,2))\n",
    "plt.plot(leaf, label='leaf')\n",
    "plt.plot(stem, label='stem')\n",
    "plt.legend()\n",
    "plt.show()"
   ]
  },
  {
   "cell_type": "markdown",
   "metadata": {},
   "source": [
    "### Plot Bands 1, 10, 50, 150, 200, and 220 for leaf"
   ]
  },
  {
   "cell_type": "code",
   "execution_count": null,
   "metadata": {},
   "outputs": [],
   "source": [
    "bands = [1, 10, 50, 150, 200, 220]\n",
    "fig, ax = plt.subplots(2, 3, figsize=(6,4), sharex=True, sharey=True)\n",
    "for i, band in enumerate(bands):\n",
    "    ax[i//3,i%3].set_title(f'Band {bands[i]}')\n",
    "    im = ax[i//3,i%3].imshow(roi1[:,band,:], vmin=roi1.min(), vmax=roi1.max())\n",
    "plt.colorbar(im, ax=ax.ravel().tolist())\n",
    "plt.show()"
   ]
  },
  {
   "cell_type": "markdown",
   "metadata": {},
   "source": [
    "### Plot Bands 1, 10, 50, 150, 200, and 220 for stem"
   ]
  },
  {
   "cell_type": "code",
   "execution_count": null,
   "metadata": {},
   "outputs": [],
   "source": [
    "bands = [1, 10, 50, 150, 200, 220]\n",
    "fig, ax = plt.subplots(2, 3, figsize=(6,6), sharex=True, sharey=True)\n",
    "for i, band in enumerate(bands):\n",
    "    ax[i//3,i%3].set_title(f'Band {bands[i]}')\n",
    "    im = ax[i//3,i%3].imshow(roi2[:,band,:], vmin=roi2.min(), vmax=roi2.max())\n",
    "plt.colorbar(im, ax=ax.ravel().tolist())\n",
    "plt.show()"
   ]
  }
 ],
 "metadata": {
  "kernelspec": {
   "display_name": "Python 3",
   "language": "python",
   "name": "python3"
  },
  "language_info": {
   "codemirror_mode": {
    "name": "ipython",
    "version": 3
   },
   "file_extension": ".py",
   "mimetype": "text/x-python",
   "name": "python",
   "nbconvert_exporter": "python",
   "pygments_lexer": "ipython3",
   "version": "3.6.10"
  }
 },
 "nbformat": 4,
 "nbformat_minor": 4
}
