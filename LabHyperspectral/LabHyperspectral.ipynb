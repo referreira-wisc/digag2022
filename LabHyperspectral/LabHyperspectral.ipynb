{
  "cells": [
    {
      "cell_type": "code",
      "source": [
        "!git clone https://github.com/referreira-wisc/digag2022.git"
      ],
      "metadata": {
        "id": "Et41jwMZXVjK"
      },
      "execution_count": null,
      "outputs": []
    },
    {
      "cell_type": "code",
      "source": [
        "import os\n",
        "os.chdir('digag2022/LabHyperspectral')"
      ],
      "metadata": {
        "id": "-6S3j4d-Xg8e"
      },
      "execution_count": null,
      "outputs": []
    },
    {
      "cell_type": "markdown",
      "metadata": {
        "id": "i3FS1m_NXVAl"
      },
      "source": [
        "### Imports"
      ]
    },
    {
      "cell_type": "code",
      "execution_count": null,
      "metadata": {
        "id": "OaxIIz-BXVAn"
      },
      "outputs": [],
      "source": [
        "import numpy as np\n",
        "import matplotlib.pyplot as plt\n",
        "from matplotlib.patches import Rectangle"
      ]
    },
    {
      "cell_type": "markdown",
      "metadata": {
        "id": "ihyGzXIuXVAo"
      },
      "source": [
        "### Open Hyperspectral images"
      ]
    },
    {
      "cell_type": "code",
      "execution_count": null,
      "metadata": {
        "id": "7grjhj1JXVAp"
      },
      "outputs": [],
      "source": [
        "leaves_sample = np.fromfile('alfalfa3leaves_2_FX17.raw', dtype=np.uint16).reshape((1533, 224, 640))\n",
        "stem_sample = np.fromfile('alfalfa3stems_2_FX17.raw', dtype=np.uint16).reshape((1531, 224, 640))"
      ]
    },
    {
      "cell_type": "markdown",
      "metadata": {
        "id": "5GMnph2CXVAp"
      },
      "source": [
        "### Let's extract just the first band of each sample to plot images"
      ]
    },
    {
      "cell_type": "code",
      "execution_count": null,
      "metadata": {
        "id": "k-lLBjgCXVAq"
      },
      "outputs": [],
      "source": [
        "imband1 = leaves_sample[:,0,:]\n",
        "imband2 = stem_sample[:,0,:]\n",
        "fig, ax = plt.subplots(1, 2, figsize=(16, 36))\n",
        "ax[0].imshow(imband1)\n",
        "ax[1].imshow(imband2)"
      ]
    },
    {
      "cell_type": "markdown",
      "metadata": {
        "id": "jK3zEojHXVAq"
      },
      "source": [
        "### Extract regions of interest from images"
      ]
    },
    {
      "cell_type": "code",
      "execution_count": null,
      "metadata": {
        "id": "oCQ0Rs4dXVAq"
      },
      "outputs": [],
      "source": [
        "region1 = (226, 340, 52, 52)\n",
        "region2 = (361, 327, 11, 36)\n",
        "fig, ax = plt.subplots(1, 2, figsize=(16, 36))\n",
        "ax[0].imshow(imband1)\n",
        "ax[0].add_patch(Rectangle((region1[0], region1[1]), region1[2], region1[3], edgecolor='red', fill=False, lw=2))\n",
        "ax[1].imshow(imband2)\n",
        "ax[1].add_patch(Rectangle((region2[0], region2[1]), region2[2], region2[3], edgecolor='red', fill=False, lw=2))"
      ]
    },
    {
      "cell_type": "code",
      "execution_count": null,
      "metadata": {
        "id": "sFJC_xbRXVAr"
      },
      "outputs": [],
      "source": [
        "roi1 = leaves_sample[region1[1]:region1[1]+region1[3], :, region1[0]:region1[0]+region1[2]]\n",
        "roi2 = stem_sample[region2[1]:region2[1]+region2[3], :, region2[0]:region2[0]+region2[2]]\n",
        "fig, ax = plt.subplots(1, 2)\n",
        "ax[0].imshow(roi1[:,0,:])\n",
        "ax[1].imshow(roi2[:,0,:])"
      ]
    },
    {
      "cell_type": "markdown",
      "metadata": {
        "id": "DNYhONBfXVAr"
      },
      "source": [
        "### Average spectral data for each region"
      ]
    },
    {
      "cell_type": "code",
      "execution_count": null,
      "metadata": {
        "id": "Wcr6NbMFXVAr"
      },
      "outputs": [],
      "source": [
        "leaf = np.mean(roi1, axis=(0,2))\n",
        "stem = np.mean(roi2, axis=(0,2))\n",
        "plt.plot(leaf, label='leaf')\n",
        "plt.plot(stem, label='stem')\n",
        "plt.legend()\n",
        "plt.show()"
      ]
    },
    {
      "cell_type": "markdown",
      "metadata": {
        "id": "1gI8b2arXVAs"
      },
      "source": [
        "### Plot Bands 1, 10, 50, 150, 200, and 220 for leaf"
      ]
    },
    {
      "cell_type": "code",
      "execution_count": null,
      "metadata": {
        "id": "X5B7YHoYXVAs"
      },
      "outputs": [],
      "source": [
        "bands = [1, 10, 50, 150, 200, 220]\n",
        "fig, ax = plt.subplots(2, 3, figsize=(6,4), sharex=True, sharey=True)\n",
        "for i, band in enumerate(bands):\n",
        "    ax[i//3,i%3].set_title(f'Band {bands[i]}')\n",
        "    im = ax[i//3,i%3].imshow(roi1[:,band,:], vmin=roi1.min(), vmax=roi1.max())\n",
        "plt.colorbar(im, ax=ax.ravel().tolist())\n",
        "plt.show()"
      ]
    },
    {
      "cell_type": "markdown",
      "metadata": {
        "id": "cpBFkARjXVAs"
      },
      "source": [
        "### Plot Bands 1, 10, 50, 150, 200, and 220 for stem"
      ]
    },
    {
      "cell_type": "code",
      "execution_count": null,
      "metadata": {
        "id": "Soyn_KIzXVAs"
      },
      "outputs": [],
      "source": [
        "bands = [1, 10, 50, 150, 200, 220]\n",
        "fig, ax = plt.subplots(2, 3, figsize=(6,6), sharex=True, sharey=True)\n",
        "for i, band in enumerate(bands):\n",
        "    ax[i//3,i%3].set_title(f'Band {bands[i]}')\n",
        "    im = ax[i//3,i%3].imshow(roi2[:,band,:], vmin=roi2.min(), vmax=roi2.max())\n",
        "plt.colorbar(im, ax=ax.ravel().tolist())\n",
        "plt.show()"
      ]
    }
  ],
  "metadata": {
    "kernelspec": {
      "display_name": "Python 3",
      "language": "python",
      "name": "python3"
    },
    "language_info": {
      "codemirror_mode": {
        "name": "ipython",
        "version": 3
      },
      "file_extension": ".py",
      "mimetype": "text/x-python",
      "name": "python",
      "nbconvert_exporter": "python",
      "pygments_lexer": "ipython3",
      "version": "3.6.10"
    },
    "colab": {
      "provenance": []
    }
  },
  "nbformat": 4,
  "nbformat_minor": 0
}