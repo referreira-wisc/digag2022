{
  "nbformat": 4,
  "nbformat_minor": 0,
  "metadata": {
    "colab": {
      "provenance": []
    },
    "kernelspec": {
      "name": "python3",
      "display_name": "Python 3"
    },
    "language_info": {
      "name": "python"
    }
  },
  "cells": [
    {
      "cell_type": "code",
      "execution_count": 1,
      "metadata": {
        "id": "2UY4fey-KR5n",
        "outputId": "c217bd0f-0e53-40b2-80b8-5627544e63bd",
        "colab": {
          "base_uri": "https://localhost:8080/"
        }
      },
      "outputs": [
        {
          "output_type": "stream",
          "name": "stdout",
          "text": [
            "Looking in indexes: https://pypi.org/simple, https://us-python.pkg.dev/colab-wheels/public/simple/\n",
            "Collecting qqman\n",
            "  Downloading qqman-1.0.6-py3-none-any.whl (7.3 kB)\n",
            "Installing collected packages: qqman\n",
            "Successfully installed qqman-1.0.6\n"
          ]
        }
      ],
      "source": [
        "!pip install qqman"
      ]
    }
  ]
}