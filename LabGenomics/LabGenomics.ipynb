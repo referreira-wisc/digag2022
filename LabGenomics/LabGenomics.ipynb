{
  "nbformat": 4,
  "nbformat_minor": 0,
  "metadata": {
    "colab": {
      "provenance": []
    },
    "kernelspec": {
      "name": "python3",
      "display_name": "Python 3"
    },
    "language_info": {
      "name": "python"
    }
  },
  "cells": [
    {
      "cell_type": "code",
      "execution_count": null,
      "metadata": {
        "id": "2UY4fey-KR5n"
      },
      "outputs": [],
      "source": [
        "!pip install qqman\n",
        "!pip install pyro-ppl\n",
        "!git clone https://github.com/referreira-wisc/digag2022.git"
      ]
    },
    {
      "cell_type": "code",
      "source": [
        "import os\n",
        "os.chdir('digag2022/LabGenomics')"
      ],
      "metadata": {
        "id": "UjEuhoVyMQU3"
      },
      "execution_count": null,
      "outputs": []
    },
    {
      "cell_type": "markdown",
      "source": [
        "### Import required libraries"
      ],
      "metadata": {
        "id": "tOuCNeW5NFDZ"
      }
    },
    {
      "cell_type": "code",
      "source": [
        "import os\n",
        "import pandas as pd\n",
        "import numpy as np\n",
        "import matplotlib.pyplot as plt\n",
        "from scipy import stats\n",
        "from qqman import qqman"
      ],
      "metadata": {
        "id": "8ZFt5G_XNEhX"
      },
      "execution_count": null,
      "outputs": []
    },
    {
      "cell_type": "markdown",
      "source": [
        "## Data preparation"
      ],
      "metadata": {
        "id": "ILLjCdrQN3SE"
      }
    },
    {
      "cell_type": "markdown",
      "source": [
        "### Read data files"
      ],
      "metadata": {
        "id": "hSukW152NSKM"
      }
    },
    {
      "cell_type": "code",
      "source": [
        "genotype = pd.read_csv('genotype.txt', delimiter=' ')\n",
        "snp_map = pd.read_csv('snp_map.txt', delimiter=' ')\n",
        "phenotype = pd.read_csv('phenotype.txt', delimiter=' ')"
      ],
      "metadata": {
        "id": "qasS4CTsNUNw"
      },
      "execution_count": null,
      "outputs": []
    },
    {
      "cell_type": "markdown",
      "source": [
        "### Recode genotypes and convert to transposed matrix (SNPs on columns)"
      ],
      "metadata": {
        "id": "ADkREiG2NV8b"
      }
    },
    {
      "cell_type": "code",
      "source": [
        "genotype = genotype.replace(\"AA\", 0)\n",
        "genotype = genotype.replace(\"AB\", 1)\n",
        "genotype = genotype.replace(\"BA\", 1)\n",
        "genotype = genotype.replace(\"BB\", 2)\n",
        "genotype = np.array(genotype, dtype=int)\n",
        "genotype = genotype.transpose()"
      ],
      "metadata": {
        "id": "_hFNoEZANXDi"
      },
      "execution_count": null,
      "outputs": []
    },
    {
      "cell_type": "markdown",
      "source": [
        "### Calculate minor allele frequencies"
      ],
      "metadata": {
        "id": "zg7bROgCNaxO"
      }
    },
    {
      "cell_type": "code",
      "source": [
        "n = genotype.shape[0]\n",
        "q = np.mean(genotype, axis=0) / 2\n",
        "p = 1 - q\n",
        "maf = np.minimum(p, q)"
      ],
      "metadata": {
        "id": "gQGw9DUxNdHz"
      },
      "execution_count": null,
      "outputs": []
    },
    {
      "cell_type": "markdown",
      "source": [
        "### Plot minor allele frequencies histogram"
      ],
      "metadata": {
        "id": "Zg7f_D9yNhV5"
      }
    },
    {
      "cell_type": "code",
      "source": [
        "plt.hist(maf, histtype='bar', facecolor='w', edgecolor='k')\n",
        "plt.xlabel('Minor Allele Frequency')\n",
        "plt.ylabel('Frequency')\n",
        "plt.title('Before QC')\n",
        "plt.show()"
      ],
      "metadata": {
        "id": "QuGgEAn2Nne9"
      },
      "execution_count": null,
      "outputs": []
    },
    {
      "cell_type": "markdown",
      "source": [
        "### Plot minor allele frequencies histogram after removing frequencies < 1%"
      ],
      "metadata": {
        "id": "CXdEMdGDNkJR"
      }
    },
    {
      "cell_type": "code",
      "source": [
        "plt.hist(maf[maf >= 0.01], histtype='bar', facecolor='w', edgecolor='k')\n",
        "plt.xlabel('Minor Allele Frequency')\n",
        "plt.ylabel('Frequency')\n",
        "plt.title('After QC')\n",
        "plt.show()"
      ],
      "metadata": {
        "id": "RFmuGO0qNkOa"
      },
      "execution_count": null,
      "outputs": []
    },
    {
      "cell_type": "markdown",
      "source": [
        "### Perform Chi-squared test of Hardy-Weinberg proportions"
      ],
      "metadata": {
        "id": "FAwoevr-NrJL"
      }
    },
    {
      "cell_type": "code",
      "source": [
        "pp = np.sum(genotype == 0, axis=0)\n",
        "pq = np.sum(genotype == 1, axis=0)\n",
        "qq = np.sum(genotype == 2, axis=0)\n",
        "pp_expected = p * p * n\n",
        "pq_expected = 2 * p * q * n\n",
        "qq_expected = q * q * n\n",
        "chi2_stat = ((pp - pp_expected)**2 / pp_expected) + ((pq - pq_expected)**2 / pq_expected) + ((qq - qq_expected)**2 / qq_expected)\n",
        "chi2_p = 1 - stats.chi2.cdf(chi2_stat, 1)"
      ],
      "metadata": {
        "id": "qxmEmksmNst_"
      },
      "execution_count": null,
      "outputs": []
    },
    {
      "cell_type": "markdown",
      "source": [
        "### Plot Q-Q plot for Hardy-Weinberg proportions"
      ],
      "metadata": {
        "id": "2Ehiri-nNxMN"
      }
    },
    {
      "cell_type": "code",
      "source": [
        "qqman.qqplot(chi2_p, show=True)"
      ],
      "metadata": {
        "id": "V03aN4e_Nvef"
      },
      "execution_count": null,
      "outputs": []
    },
    {
      "cell_type": "markdown",
      "source": [
        "## Data editing"
      ],
      "metadata": {
        "id": "2dvGvxjWNzNs"
      }
    },
    {
      "cell_type": "markdown",
      "source": [
        "### Eliminate markers with maf less than 1% and p-value on Chi-squared test of Hardy-Weinberg proportions less than 1e-10"
      ],
      "metadata": {
        "id": "P9_htvWEN7Lm"
      }
    },
    {
      "cell_type": "code",
      "source": [
        "snps_ok = np.logical_and(maf >= 0.01, chi2_p>=1e-10)\n",
        "markers = genotype[:, snps_ok]"
      ],
      "metadata": {
        "id": "kWNGCPQ8OBEc"
      },
      "execution_count": null,
      "outputs": []
    }
  ]
}