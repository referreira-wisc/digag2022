{
  "cells": [
    {
      "cell_type": "code",
      "source": [
        "!git clone https://github.com/referreira-wisc/digag2022.git"
      ],
      "metadata": {
        "id": "LVPn7YF56iqG"
      },
      "id": "LVPn7YF56iqG",
      "execution_count": null,
      "outputs": []
    },
    {
      "cell_type": "code",
      "source": [
        "import os\n",
        "os.chdir('digag2022/Lab02')"
      ],
      "metadata": {
        "id": "QkDVYzkn6oFI"
      },
      "id": "QkDVYzkn6oFI",
      "execution_count": null,
      "outputs": []
    },
    {
      "cell_type": "markdown",
      "metadata": {
        "id": "8JM2Y-ft6cWJ"
      },
      "source": [
        "# <center> Advanced Digital Agriculture (DS/AS 875) <center> Module 01 - Data Analysis (Lab 02)\n",
        "***\n",
        "# Table of Contents\n",
        "* [READING THE DATASET INTO PYTHON](#READING-THE-DATASET-INTO-PYTHON)\n",
        "* [PART I. LOOK AT YOUR DATA!](#PART-I.-LOOK-AT-YOUR-DATA!)\n",
        "    * [Editing Dataset](#Editing-Dataset)\n",
        "    * [Data Visualization](#Data-Visualization)\n",
        "* [PART II. CORRELATION](#PART-II.-CORRELATION)\n",
        "* [PART III. REGRESSION](#PART-III.-REGRESSION)\n",
        "    * [Linear Regression](#Linear-Regression)\n",
        "    * [ANOVA](#ANOVA)\n",
        "    * [Leave-one-out cross-validation](#Leave-one-out-cross-validation)\n",
        "***   "
      ],
      "id": "8JM2Y-ft6cWJ"
    },
    {
      "cell_type": "markdown",
      "metadata": {
        "id": "mUYM3N4l6cWP"
      },
      "source": [
        "## READING THE DATASET INTO PYTHON"
      ],
      "id": "mUYM3N4l6cWP"
    },
    {
      "cell_type": "code",
      "execution_count": null,
      "metadata": {
        "id": "kotdbReo6cWQ"
      },
      "outputs": [],
      "source": [
        "import pandas as pd\n",
        "cowdata = pd.read_csv(\"CullDairyCow_Data.csv\")\n",
        "cowdata"
      ],
      "id": "kotdbReo6cWQ"
    },
    {
      "cell_type": "markdown",
      "metadata": {
        "id": "GDQmfduN6cWR"
      },
      "source": [
        "## PART I. LOOK AT YOUR DATA!\n",
        "* Data inconsistencies, errors\n",
        "* Data distribution: symmetry, kurtosis, etc.\n",
        "* Outliers (discrepant observations), redundancies\n",
        "* Descriptive analysis (summary values and plots)"
      ],
      "id": "GDQmfduN6cWR"
    },
    {
      "cell_type": "markdown",
      "metadata": {
        "id": "MyfpZL7U6cWR"
      },
      "source": [
        "### Editing Dataset"
      ],
      "id": "MyfpZL7U6cWR"
    },
    {
      "cell_type": "code",
      "execution_count": null,
      "metadata": {
        "id": "6y3wtAhV6cWS"
      },
      "outputs": [],
      "source": [
        "# Frequency for number of lactations\n",
        "cowdata[\"lact\"].value_counts(sort=True, ascending=False)"
      ],
      "id": "6y3wtAhV6cWS"
    },
    {
      "cell_type": "code",
      "execution_count": null,
      "metadata": {
        "id": "pCZme-dh6cWT"
      },
      "outputs": [],
      "source": [
        "# Lactation number 6 or higher lumped together into a single class (6)\n",
        "cowdata.loc[cowdata.lact > 6, \"lact\"] = 6"
      ],
      "id": "pCZme-dh6cWT"
    },
    {
      "cell_type": "code",
      "execution_count": null,
      "metadata": {
        "id": "cb4p1dRS6cWT"
      },
      "outputs": [],
      "source": [
        "# Frequency for number of lamness cases\n",
        "cowdata[\"lameness\"].value_counts(sort=True, ascending=False)"
      ],
      "id": "cb4p1dRS6cWT"
    },
    {
      "cell_type": "code",
      "execution_count": null,
      "metadata": {
        "id": "wcHQ1-w-6cWU"
      },
      "outputs": [],
      "source": [
        "# Number of lamness cases larger than 4 lumped together into a single class (4)\n",
        "cowdata.loc[cowdata.lameness > 4, \"lameness\"] = 4"
      ],
      "id": "wcHQ1-w-6cWU"
    },
    {
      "cell_type": "code",
      "execution_count": null,
      "metadata": {
        "id": "zTOsU5V06cWU"
      },
      "outputs": [],
      "source": [
        "# Frequency for number of lamness cases\n",
        "cowdata[\"mastitis\"].value_counts(sort=True, ascending=False)"
      ],
      "id": "zTOsU5V06cWU"
    },
    {
      "cell_type": "code",
      "execution_count": null,
      "metadata": {
        "id": "b8h-z2XD6cWV"
      },
      "outputs": [],
      "source": [
        "# Number of mastitis cases larger than 4 lumped together into a single class (4)\n",
        "cowdata.loc[cowdata.mastitis > 4, \"mastitis\"] = 4"
      ],
      "id": "b8h-z2XD6cWV"
    },
    {
      "cell_type": "markdown",
      "metadata": {
        "id": "G17OB6q66cWV"
      },
      "source": [
        "### Data Visualization\n",
        "#### Making histograms for numerical variables"
      ],
      "id": "G17OB6q66cWV"
    },
    {
      "cell_type": "code",
      "execution_count": null,
      "metadata": {
        "id": "GS3-6LeU6cWW"
      },
      "outputs": [],
      "source": [
        "hist = cowdata.hist(column=[\"price\", \"BW\", \"305ME\"], figsize=(16, 4), layout=(1, 3), sharey=True, grid=False)"
      ],
      "id": "GS3-6LeU6cWW"
    },
    {
      "cell_type": "markdown",
      "metadata": {
        "id": "tCu6eJ3Q6cWW"
      },
      "source": [
        "#### Box-Plot graphs"
      ],
      "id": "tCu6eJ3Q6cWW"
    },
    {
      "cell_type": "code",
      "execution_count": null,
      "metadata": {
        "id": "sy6JK6BW6cWW"
      },
      "outputs": [],
      "source": [
        "import warnings\n",
        "warnings.filterwarnings('ignore')"
      ],
      "id": "sy6JK6BW6cWW"
    },
    {
      "cell_type": "code",
      "execution_count": null,
      "metadata": {
        "id": "JSP9bEA_6cWX"
      },
      "outputs": [],
      "source": [
        "# Price distribution by season\n",
        "bp = cowdata.boxplot(column=[\"price\"], by=[\"season\"], figsize=(6, 6), grid=False)"
      ],
      "id": "JSP9bEA_6cWX"
    },
    {
      "cell_type": "code",
      "execution_count": null,
      "metadata": {
        "id": "Xxif2rFu6cWX"
      },
      "outputs": [],
      "source": [
        "# Price distribution by lactation number\n",
        "bp = cowdata.boxplot(column=[\"price\"], by=[\"lact\"], figsize=(6, 6), grid=False)"
      ],
      "id": "Xxif2rFu6cWX"
    },
    {
      "cell_type": "code",
      "execution_count": null,
      "metadata": {
        "id": "1nKn5Kpl6cWX"
      },
      "outputs": [],
      "source": [
        "# Price distribution by Calving Ease\n",
        "bp = cowdata.boxplot(column=[\"price\"], by=[\"calvingEase\"], figsize=(6, 6), grid=False)"
      ],
      "id": "1nKn5Kpl6cWX"
    },
    {
      "cell_type": "code",
      "execution_count": null,
      "metadata": {
        "id": "Q3gTX2Pb6cWX"
      },
      "outputs": [],
      "source": [
        "# Price distribution by number of lameness cases\n",
        "bp = cowdata.boxplot(column=[\"price\"], by=[\"lameness\"], figsize=(6, 6), grid=False)"
      ],
      "id": "Q3gTX2Pb6cWX"
    },
    {
      "cell_type": "code",
      "execution_count": null,
      "metadata": {
        "id": "dCA5kTYo6cWY"
      },
      "outputs": [],
      "source": [
        "# Price distribution by number of mastitis cases\n",
        "bp = cowdata.boxplot(column=[\"price\"], by=[\"mastitis\"], figsize=(6, 6), grid=False)"
      ],
      "id": "dCA5kTYo6cWY"
    },
    {
      "cell_type": "code",
      "execution_count": null,
      "metadata": {
        "id": "_SnQvBzA6cWY"
      },
      "outputs": [],
      "source": [
        "# Price distribution by culling reason\n",
        "bp = cowdata.boxplot(column=[\"price\"], by=[\"reason\"], figsize=(6, 6), grid=False, rot=45)"
      ],
      "id": "_SnQvBzA6cWY"
    },
    {
      "cell_type": "code",
      "execution_count": null,
      "metadata": {
        "id": "O1bd5JFw6cWZ"
      },
      "outputs": [],
      "source": [
        "# Price distribution by lactation stage\n",
        "bp = cowdata.boxplot(column=[\"price\"], by=[\"lactStage\"], figsize=(6, 6), grid=False)"
      ],
      "id": "O1bd5JFw6cWZ"
    },
    {
      "cell_type": "markdown",
      "metadata": {
        "id": "h3azcrvT6cWZ"
      },
      "source": [
        "### PART II. CORRELATION\n",
        "Creating a subset of the data set with only numerical variables to calculate Pearson Correlation"
      ],
      "id": "h3azcrvT6cWZ"
    },
    {
      "cell_type": "code",
      "execution_count": null,
      "metadata": {
        "id": "kStDTWgw6cWZ"
      },
      "outputs": [],
      "source": [
        "cowdata[[\"305ME\", \"price\", \"BW\"]].corr()"
      ],
      "id": "kStDTWgw6cWZ"
    },
    {
      "cell_type": "markdown",
      "metadata": {
        "id": "OXhJXZ-A6cWZ"
      },
      "source": [
        "### PART III. REGRESSION"
      ],
      "id": "OXhJXZ-A6cWZ"
    },
    {
      "cell_type": "markdown",
      "metadata": {
        "id": "dzO2eukR6cWa"
      },
      "source": [
        "### Linear Regression\n",
        "Using `statsmodel` package to fit a linear model. Adding `C()` around each variable name to converts it into a categorical variable during analysis"
      ],
      "id": "dzO2eukR6cWa"
    },
    {
      "cell_type": "code",
      "execution_count": null,
      "metadata": {
        "id": "QoxKF7Aq6cWa"
      },
      "outputs": [],
      "source": [
        "from statsmodels.formula.api import ols\n",
        "cowdata = cowdata.rename(columns={\"305ME\": \"x305ME\"}) # Rename column so it doesn't start with a digit\n",
        "lm = ols('price ~ C(season) + C(lact) + C(calvingEase) + C(lameness) + C(mastitis) + C(reason) + C(lactStage) + x305ME + BW',\n",
        "               data=cowdata).fit()\n",
        "print(lm.summary())"
      ],
      "id": "QoxKF7Aq6cWa"
    },
    {
      "cell_type": "markdown",
      "metadata": {
        "id": "QolZsi5x6cWa"
      },
      "source": [
        "#### ANOVA"
      ],
      "id": "QolZsi5x6cWa"
    },
    {
      "cell_type": "code",
      "execution_count": null,
      "metadata": {
        "id": "a1_ah0Ci6cWb"
      },
      "outputs": [],
      "source": [
        "import statsmodels.api as sm\n",
        "table = sm.stats.anova_lm(lm, typ=1)\n",
        "print(table)"
      ],
      "id": "a1_ah0Ci6cWb"
    },
    {
      "cell_type": "markdown",
      "metadata": {
        "id": "1OiFWxVv6cWb"
      },
      "source": [
        "### Leave-one-out cross-validation"
      ],
      "id": "1OiFWxVv6cWb"
    },
    {
      "cell_type": "code",
      "execution_count": null,
      "metadata": {
        "id": "dvPE2sQs6cWb"
      },
      "outputs": [],
      "source": [
        "import numpy as np\n",
        "n = len(cowdata) # number of rows in the dataset\n",
        "formula = 'price ~ C(season) + C(lact) + C(calvingEase) + C(lameness) + C(mastitis) + C(reason) + C(lactStage) + x305ME + BW'\n",
        "yhat = []\n",
        "for i in range(n): # loop through each row, and train with all other rows\n",
        "    train_data = cowdata.copy()\n",
        "    validation_data = cowdata.iloc[i:i+1]\n",
        "    train_data = train_data.drop(labels=i)\n",
        "    lm = ols(formula, data=train_data).fit()\n",
        "    yhat.append(lm.predict(validation_data).iloc[0])\n",
        "yhat = np.array(yhat)\n",
        "ygnd = cowdata[[\"price\"]].values.squeeze()\n",
        "mse = np.sum((ygnd - yhat)**2) / n\n",
        "mae = np.sum(abs(ygnd - yhat)) / n\n",
        "corr = np.corrcoef(yhat, ygnd)  \n",
        "print(f\"MSE: {mse}\")\n",
        "print(f\"MAE: {mae}\")\n",
        "print(f\"Pearson correlation coefficient: {corr[0][1]}\")"
      ],
      "id": "dvPE2sQs6cWb"
    },
    {
      "cell_type": "code",
      "execution_count": null,
      "metadata": {
        "id": "5fJFhyr56cWb"
      },
      "outputs": [],
      "source": [
        "import matplotlib.pyplot as plt\n",
        "plt.plot(yhat, ygnd, 'o')\n",
        "m, b = np.polyfit(yhat, ygnd, 1)\n",
        "plt.plot(yhat, m*yhat + b)"
      ],
      "id": "5fJFhyr56cWb"
    },
    {
      "cell_type": "code",
      "execution_count": null,
      "metadata": {
        "id": "eWH23Db96cWb"
      },
      "outputs": [],
      "source": [],
      "id": "eWH23Db96cWb"
    }
  ],
  "metadata": {
    "kernelspec": {
      "display_name": "Python 3",
      "language": "python",
      "name": "python3"
    },
    "language_info": {
      "codemirror_mode": {
        "name": "ipython",
        "version": 3
      },
      "file_extension": ".py",
      "mimetype": "text/x-python",
      "name": "python",
      "nbconvert_exporter": "python",
      "pygments_lexer": "ipython3",
      "version": "3.6.13"
    },
    "colab": {
      "provenance": []
    }
  },
  "nbformat": 4,
  "nbformat_minor": 5
}