{
  "cells": [
    {
      "cell_type": "code",
      "source": [
        "!git clone https://github.com/referreira-wisc/digag2022.git"
      ],
      "metadata": {
        "id": "LVPn7YF56iqG",
        "outputId": "5a0bfd01-dff7-41dd-9700-09bdb845bfa6",
        "colab": {
          "base_uri": "https://localhost:8080/"
        }
      },
      "id": "LVPn7YF56iqG",
      "execution_count": 1,
      "outputs": [
        {
          "output_type": "stream",
          "name": "stdout",
          "text": [
            "Cloning into 'digag2022'...\n",
            "remote: Enumerating objects: 88, done.\u001b[K\n",
            "remote: Counting objects: 100% (19/19), done.\u001b[K\n",
            "remote: Compressing objects: 100% (19/19), done.\u001b[K\n",
            "remote: Total 88 (delta 0), reused 0 (delta 0), pack-reused 69\u001b[K\n",
            "Unpacking objects: 100% (88/88), done.\n"
          ]
        }
      ]
    },
    {
      "cell_type": "code",
      "source": [
        "import os\n",
        "os.chdir('digag2022/Lab02')"
      ],
      "metadata": {
        "id": "QkDVYzkn6oFI"
      },
      "id": "QkDVYzkn6oFI",
      "execution_count": 2,
      "outputs": []
    },
    {
      "cell_type": "markdown",
      "metadata": {
        "id": "8JM2Y-ft6cWJ"
      },
      "source": [
        "# <center> Advanced Digital Agriculture (DS/AS 875) <center> Module 01 - Data Analysis (Lab 02)\n",
        "***\n",
        "# Table of Contents\n",
        "* [READING THE DATASET INTO PYTHON](#READING-THE-DATASET-INTO-PYTHON)\n",
        "* [PART I. LOOK AT YOUR DATA!](#PART-I.-LOOK-AT-YOUR-DATA!)\n",
        "    * [Editing Dataset](#Editing-Dataset)\n",
        "    * [Data Visualization](#Data-Visualization)\n",
        "* [PART II. CORRELATION](#PART-II.-CORRELATION)\n",
        "* [PART III. REGRESSION](#PART-III.-REGRESSION)\n",
        "    * [Linear Regression](#Linear-Regression)\n",
        "    * [ANOVA](#ANOVA)\n",
        "    * [Leave-one-out cross-validation](#Leave-one-out-cross-validation)\n",
        "***   "
      ],
      "id": "8JM2Y-ft6cWJ"
    },
    {
      "cell_type": "markdown",
      "metadata": {
        "id": "mUYM3N4l6cWP"
      },
      "source": [
        "## READING THE DATASET INTO PYTHON"
      ],
      "id": "mUYM3N4l6cWP"
    },
    {
      "cell_type": "code",
      "execution_count": 3,
      "metadata": {
        "id": "kotdbReo6cWQ",
        "outputId": "bdec6490-5ef9-475f-8dac-2af1316d3d97",
        "colab": {
          "base_uri": "https://localhost:8080/",
          "height": 424
        }
      },
      "outputs": [
        {
          "output_type": "execute_result",
          "data": {
            "text/plain": [
              "        ID  season  lact  calvingEase  lameness  mastitis  \\\n",
              "0      129       1     5            1         0         2   \n",
              "1      209       1     4            1         0         1   \n",
              "2      267       1     5            1         0         2   \n",
              "3      299       1     7            1         2         0   \n",
              "4      341       1     6            2         0         1   \n",
              "..     ...     ...   ...          ...       ...       ...   \n",
              "395  11625       1     1            2         2         0   \n",
              "396  11697       1     1            1         3         0   \n",
              "397  11765       1     1            1         3         0   \n",
              "398  11824       1     1            1         0         0   \n",
              "399  11863       1     1            2         0         0   \n",
              "\n",
              "                   reason       lactStage    305ME  price    BW  \n",
              "0    7-Mastitis and Udder   Mid Lactation  14841.5   53.5  1785  \n",
              "1        3-Low production  Late Lactation  14909.6   66.0  1835  \n",
              "2        3-Low production  Late Lactation  12764.1   54.0  1965  \n",
              "3        3-Low production   Mid Lactation  10645.8   43.5  1785  \n",
              "4        3-Low production   Mid Lactation  10704.8   47.0  1640  \n",
              "..                    ...             ...      ...    ...   ...  \n",
              "395      3-Low production  Late Lactation  10146.9   48.5  1255  \n",
              "396      3-Low production  Late Lactation   8568.4   52.5  1380  \n",
              "397      3-Low production  Late Lactation   4948.7   54.5  1475  \n",
              "398      3-Low production   Mid Lactation   7452.5   42.0  1195  \n",
              "399      3-Low production   Mid Lactation   7026.2   54.0  1355  \n",
              "\n",
              "[400 rows x 11 columns]"
            ],
            "text/html": [
              "\n",
              "  <div id=\"df-48889d8a-d104-4bac-885d-3cd7378a011a\">\n",
              "    <div class=\"colab-df-container\">\n",
              "      <div>\n",
              "<style scoped>\n",
              "    .dataframe tbody tr th:only-of-type {\n",
              "        vertical-align: middle;\n",
              "    }\n",
              "\n",
              "    .dataframe tbody tr th {\n",
              "        vertical-align: top;\n",
              "    }\n",
              "\n",
              "    .dataframe thead th {\n",
              "        text-align: right;\n",
              "    }\n",
              "</style>\n",
              "<table border=\"1\" class=\"dataframe\">\n",
              "  <thead>\n",
              "    <tr style=\"text-align: right;\">\n",
              "      <th></th>\n",
              "      <th>ID</th>\n",
              "      <th>season</th>\n",
              "      <th>lact</th>\n",
              "      <th>calvingEase</th>\n",
              "      <th>lameness</th>\n",
              "      <th>mastitis</th>\n",
              "      <th>reason</th>\n",
              "      <th>lactStage</th>\n",
              "      <th>305ME</th>\n",
              "      <th>price</th>\n",
              "      <th>BW</th>\n",
              "    </tr>\n",
              "  </thead>\n",
              "  <tbody>\n",
              "    <tr>\n",
              "      <th>0</th>\n",
              "      <td>129</td>\n",
              "      <td>1</td>\n",
              "      <td>5</td>\n",
              "      <td>1</td>\n",
              "      <td>0</td>\n",
              "      <td>2</td>\n",
              "      <td>7-Mastitis and Udder</td>\n",
              "      <td>Mid Lactation</td>\n",
              "      <td>14841.5</td>\n",
              "      <td>53.5</td>\n",
              "      <td>1785</td>\n",
              "    </tr>\n",
              "    <tr>\n",
              "      <th>1</th>\n",
              "      <td>209</td>\n",
              "      <td>1</td>\n",
              "      <td>4</td>\n",
              "      <td>1</td>\n",
              "      <td>0</td>\n",
              "      <td>1</td>\n",
              "      <td>3-Low production</td>\n",
              "      <td>Late Lactation</td>\n",
              "      <td>14909.6</td>\n",
              "      <td>66.0</td>\n",
              "      <td>1835</td>\n",
              "    </tr>\n",
              "    <tr>\n",
              "      <th>2</th>\n",
              "      <td>267</td>\n",
              "      <td>1</td>\n",
              "      <td>5</td>\n",
              "      <td>1</td>\n",
              "      <td>0</td>\n",
              "      <td>2</td>\n",
              "      <td>3-Low production</td>\n",
              "      <td>Late Lactation</td>\n",
              "      <td>12764.1</td>\n",
              "      <td>54.0</td>\n",
              "      <td>1965</td>\n",
              "    </tr>\n",
              "    <tr>\n",
              "      <th>3</th>\n",
              "      <td>299</td>\n",
              "      <td>1</td>\n",
              "      <td>7</td>\n",
              "      <td>1</td>\n",
              "      <td>2</td>\n",
              "      <td>0</td>\n",
              "      <td>3-Low production</td>\n",
              "      <td>Mid Lactation</td>\n",
              "      <td>10645.8</td>\n",
              "      <td>43.5</td>\n",
              "      <td>1785</td>\n",
              "    </tr>\n",
              "    <tr>\n",
              "      <th>4</th>\n",
              "      <td>341</td>\n",
              "      <td>1</td>\n",
              "      <td>6</td>\n",
              "      <td>2</td>\n",
              "      <td>0</td>\n",
              "      <td>1</td>\n",
              "      <td>3-Low production</td>\n",
              "      <td>Mid Lactation</td>\n",
              "      <td>10704.8</td>\n",
              "      <td>47.0</td>\n",
              "      <td>1640</td>\n",
              "    </tr>\n",
              "    <tr>\n",
              "      <th>...</th>\n",
              "      <td>...</td>\n",
              "      <td>...</td>\n",
              "      <td>...</td>\n",
              "      <td>...</td>\n",
              "      <td>...</td>\n",
              "      <td>...</td>\n",
              "      <td>...</td>\n",
              "      <td>...</td>\n",
              "      <td>...</td>\n",
              "      <td>...</td>\n",
              "      <td>...</td>\n",
              "    </tr>\n",
              "    <tr>\n",
              "      <th>395</th>\n",
              "      <td>11625</td>\n",
              "      <td>1</td>\n",
              "      <td>1</td>\n",
              "      <td>2</td>\n",
              "      <td>2</td>\n",
              "      <td>0</td>\n",
              "      <td>3-Low production</td>\n",
              "      <td>Late Lactation</td>\n",
              "      <td>10146.9</td>\n",
              "      <td>48.5</td>\n",
              "      <td>1255</td>\n",
              "    </tr>\n",
              "    <tr>\n",
              "      <th>396</th>\n",
              "      <td>11697</td>\n",
              "      <td>1</td>\n",
              "      <td>1</td>\n",
              "      <td>1</td>\n",
              "      <td>3</td>\n",
              "      <td>0</td>\n",
              "      <td>3-Low production</td>\n",
              "      <td>Late Lactation</td>\n",
              "      <td>8568.4</td>\n",
              "      <td>52.5</td>\n",
              "      <td>1380</td>\n",
              "    </tr>\n",
              "    <tr>\n",
              "      <th>397</th>\n",
              "      <td>11765</td>\n",
              "      <td>1</td>\n",
              "      <td>1</td>\n",
              "      <td>1</td>\n",
              "      <td>3</td>\n",
              "      <td>0</td>\n",
              "      <td>3-Low production</td>\n",
              "      <td>Late Lactation</td>\n",
              "      <td>4948.7</td>\n",
              "      <td>54.5</td>\n",
              "      <td>1475</td>\n",
              "    </tr>\n",
              "    <tr>\n",
              "      <th>398</th>\n",
              "      <td>11824</td>\n",
              "      <td>1</td>\n",
              "      <td>1</td>\n",
              "      <td>1</td>\n",
              "      <td>0</td>\n",
              "      <td>0</td>\n",
              "      <td>3-Low production</td>\n",
              "      <td>Mid Lactation</td>\n",
              "      <td>7452.5</td>\n",
              "      <td>42.0</td>\n",
              "      <td>1195</td>\n",
              "    </tr>\n",
              "    <tr>\n",
              "      <th>399</th>\n",
              "      <td>11863</td>\n",
              "      <td>1</td>\n",
              "      <td>1</td>\n",
              "      <td>2</td>\n",
              "      <td>0</td>\n",
              "      <td>0</td>\n",
              "      <td>3-Low production</td>\n",
              "      <td>Mid Lactation</td>\n",
              "      <td>7026.2</td>\n",
              "      <td>54.0</td>\n",
              "      <td>1355</td>\n",
              "    </tr>\n",
              "  </tbody>\n",
              "</table>\n",
              "<p>400 rows × 11 columns</p>\n",
              "</div>\n",
              "      <button class=\"colab-df-convert\" onclick=\"convertToInteractive('df-48889d8a-d104-4bac-885d-3cd7378a011a')\"\n",
              "              title=\"Convert this dataframe to an interactive table.\"\n",
              "              style=\"display:none;\">\n",
              "        \n",
              "  <svg xmlns=\"http://www.w3.org/2000/svg\" height=\"24px\"viewBox=\"0 0 24 24\"\n",
              "       width=\"24px\">\n",
              "    <path d=\"M0 0h24v24H0V0z\" fill=\"none\"/>\n",
              "    <path d=\"M18.56 5.44l.94 2.06.94-2.06 2.06-.94-2.06-.94-.94-2.06-.94 2.06-2.06.94zm-11 1L8.5 8.5l.94-2.06 2.06-.94-2.06-.94L8.5 2.5l-.94 2.06-2.06.94zm10 10l.94 2.06.94-2.06 2.06-.94-2.06-.94-.94-2.06-.94 2.06-2.06.94z\"/><path d=\"M17.41 7.96l-1.37-1.37c-.4-.4-.92-.59-1.43-.59-.52 0-1.04.2-1.43.59L10.3 9.45l-7.72 7.72c-.78.78-.78 2.05 0 2.83L4 21.41c.39.39.9.59 1.41.59.51 0 1.02-.2 1.41-.59l7.78-7.78 2.81-2.81c.8-.78.8-2.07 0-2.86zM5.41 20L4 18.59l7.72-7.72 1.47 1.35L5.41 20z\"/>\n",
              "  </svg>\n",
              "      </button>\n",
              "      \n",
              "  <style>\n",
              "    .colab-df-container {\n",
              "      display:flex;\n",
              "      flex-wrap:wrap;\n",
              "      gap: 12px;\n",
              "    }\n",
              "\n",
              "    .colab-df-convert {\n",
              "      background-color: #E8F0FE;\n",
              "      border: none;\n",
              "      border-radius: 50%;\n",
              "      cursor: pointer;\n",
              "      display: none;\n",
              "      fill: #1967D2;\n",
              "      height: 32px;\n",
              "      padding: 0 0 0 0;\n",
              "      width: 32px;\n",
              "    }\n",
              "\n",
              "    .colab-df-convert:hover {\n",
              "      background-color: #E2EBFA;\n",
              "      box-shadow: 0px 1px 2px rgba(60, 64, 67, 0.3), 0px 1px 3px 1px rgba(60, 64, 67, 0.15);\n",
              "      fill: #174EA6;\n",
              "    }\n",
              "\n",
              "    [theme=dark] .colab-df-convert {\n",
              "      background-color: #3B4455;\n",
              "      fill: #D2E3FC;\n",
              "    }\n",
              "\n",
              "    [theme=dark] .colab-df-convert:hover {\n",
              "      background-color: #434B5C;\n",
              "      box-shadow: 0px 1px 3px 1px rgba(0, 0, 0, 0.15);\n",
              "      filter: drop-shadow(0px 1px 2px rgba(0, 0, 0, 0.3));\n",
              "      fill: #FFFFFF;\n",
              "    }\n",
              "  </style>\n",
              "\n",
              "      <script>\n",
              "        const buttonEl =\n",
              "          document.querySelector('#df-48889d8a-d104-4bac-885d-3cd7378a011a button.colab-df-convert');\n",
              "        buttonEl.style.display =\n",
              "          google.colab.kernel.accessAllowed ? 'block' : 'none';\n",
              "\n",
              "        async function convertToInteractive(key) {\n",
              "          const element = document.querySelector('#df-48889d8a-d104-4bac-885d-3cd7378a011a');\n",
              "          const dataTable =\n",
              "            await google.colab.kernel.invokeFunction('convertToInteractive',\n",
              "                                                     [key], {});\n",
              "          if (!dataTable) return;\n",
              "\n",
              "          const docLinkHtml = 'Like what you see? Visit the ' +\n",
              "            '<a target=\"_blank\" href=https://colab.research.google.com/notebooks/data_table.ipynb>data table notebook</a>'\n",
              "            + ' to learn more about interactive tables.';\n",
              "          element.innerHTML = '';\n",
              "          dataTable['output_type'] = 'display_data';\n",
              "          await google.colab.output.renderOutput(dataTable, element);\n",
              "          const docLink = document.createElement('div');\n",
              "          docLink.innerHTML = docLinkHtml;\n",
              "          element.appendChild(docLink);\n",
              "        }\n",
              "      </script>\n",
              "    </div>\n",
              "  </div>\n",
              "  "
            ]
          },
          "metadata": {},
          "execution_count": 3
        }
      ],
      "source": [
        "import pandas as pd\n",
        "cowdata = pd.read_csv(\"CullDairyCow_Data.csv\")\n",
        "cowdata"
      ],
      "id": "kotdbReo6cWQ"
    },
    {
      "cell_type": "markdown",
      "metadata": {
        "id": "GDQmfduN6cWR"
      },
      "source": [
        "## PART I. LOOK AT YOUR DATA!\n",
        "* Data inconsistencies, errors\n",
        "* Data distribution: symmetry, kurtosis, etc.\n",
        "* Outliers (discrepant observations), redundancies\n",
        "* Descriptive analysis (summary values and plots)"
      ],
      "id": "GDQmfduN6cWR"
    },
    {
      "cell_type": "markdown",
      "metadata": {
        "id": "MyfpZL7U6cWR"
      },
      "source": [
        "### Editing Dataset"
      ],
      "id": "MyfpZL7U6cWR"
    },
    {
      "cell_type": "code",
      "execution_count": 4,
      "metadata": {
        "id": "6y3wtAhV6cWS",
        "outputId": "ed81e800-b9e9-4475-8055-65be468af10f",
        "colab": {
          "base_uri": "https://localhost:8080/"
        }
      },
      "outputs": [
        {
          "output_type": "execute_result",
          "data": {
            "text/plain": [
              "2    134\n",
              "3     80\n",
              "1     79\n",
              "4     55\n",
              "5     28\n",
              "6     15\n",
              "7      7\n",
              "8      2\n",
              "Name: lact, dtype: int64"
            ]
          },
          "metadata": {},
          "execution_count": 4
        }
      ],
      "source": [
        "# Frequency for number of lactations\n",
        "cowdata[\"lact\"].value_counts(sort=True, ascending=False)"
      ],
      "id": "6y3wtAhV6cWS"
    },
    {
      "cell_type": "code",
      "execution_count": 5,
      "metadata": {
        "id": "pCZme-dh6cWT"
      },
      "outputs": [],
      "source": [
        "# Lactation number 6 or higher lumped together into a single class (6)\n",
        "cowdata.loc[cowdata.lact > 6, \"lact\"] = 6"
      ],
      "id": "pCZme-dh6cWT"
    },
    {
      "cell_type": "code",
      "execution_count": 6,
      "metadata": {
        "id": "cb4p1dRS6cWT",
        "outputId": "608c3b7c-c730-4889-a087-f4b21f20e20f",
        "colab": {
          "base_uri": "https://localhost:8080/"
        }
      },
      "outputs": [
        {
          "output_type": "execute_result",
          "data": {
            "text/plain": [
              "0    255\n",
              "1     85\n",
              "2     27\n",
              "4     19\n",
              "3     10\n",
              "5      2\n",
              "6      2\n",
              "Name: lameness, dtype: int64"
            ]
          },
          "metadata": {},
          "execution_count": 6
        }
      ],
      "source": [
        "# Frequency for number of lamness cases\n",
        "cowdata[\"lameness\"].value_counts(sort=True, ascending=False)"
      ],
      "id": "cb4p1dRS6cWT"
    },
    {
      "cell_type": "code",
      "execution_count": 7,
      "metadata": {
        "id": "wcHQ1-w-6cWU"
      },
      "outputs": [],
      "source": [
        "# Number of lamness cases larger than 4 lumped together into a single class (4)\n",
        "cowdata.loc[cowdata.lameness > 4, \"lameness\"] = 4"
      ],
      "id": "wcHQ1-w-6cWU"
    },
    {
      "cell_type": "code",
      "execution_count": 8,
      "metadata": {
        "id": "zTOsU5V06cWU",
        "outputId": "2327e741-c300-4462-ea04-24422eac57b2",
        "colab": {
          "base_uri": "https://localhost:8080/"
        }
      },
      "outputs": [
        {
          "output_type": "execute_result",
          "data": {
            "text/plain": [
              "0    130\n",
              "1    111\n",
              "2     64\n",
              "4     37\n",
              "3     36\n",
              "5     10\n",
              "9      5\n",
              "7      4\n",
              "6      2\n",
              "8      1\n",
              "Name: mastitis, dtype: int64"
            ]
          },
          "metadata": {},
          "execution_count": 8
        }
      ],
      "source": [
        "# Frequency for number of lamness cases\n",
        "cowdata[\"mastitis\"].value_counts(sort=True, ascending=False)"
      ],
      "id": "zTOsU5V06cWU"
    },
    {
      "cell_type": "code",
      "execution_count": 9,
      "metadata": {
        "id": "b8h-z2XD6cWV"
      },
      "outputs": [],
      "source": [
        "# Number of mastitis cases larger than 4 lumped together into a single class (4)\n",
        "cowdata.loc[cowdata.mastitis > 4, \"mastitis\"] = 4"
      ],
      "id": "b8h-z2XD6cWV"
    },
    {
      "cell_type": "markdown",
      "metadata": {
        "id": "G17OB6q66cWV"
      },
      "source": [
        "### Data Visualization\n",
        "#### Making histograms for numerical variables"
      ],
      "id": "G17OB6q66cWV"
    },
    {
      "cell_type": "code",
      "execution_count": 10,
      "metadata": {
        "id": "GS3-6LeU6cWW",
        "outputId": "e0e98697-8991-4660-de20-712c230ca5a0",
        "colab": {
          "base_uri": "https://localhost:8080/",
          "height": 281
        }
      },
      "outputs": [
        {
          "output_type": "display_data",
          "data": {
            "text/plain": [
              "<Figure size 1152x288 with 3 Axes>"
            ],
            "image/png": "[encoded data removed]"
          },
          "metadata": {
            "needs_background": "light"
          }
        }
      ],
      "source": [
        "hist = cowdata.hist(column=[\"price\", \"BW\", \"305ME\"], figsize=(16, 4), layout=(1, 3), sharey=True, grid=False)"
      ],
      "id": "GS3-6LeU6cWW"
    },
    {
      "cell_type": "markdown",
      "metadata": {
        "id": "tCu6eJ3Q6cWW"
      },
      "source": [
        "#### Box-Plot graphs"
      ],
      "id": "tCu6eJ3Q6cWW"
    },
    {
      "cell_type": "code",
      "execution_count": 11,
      "metadata": {
        "id": "sy6JK6BW6cWW"
      },
      "outputs": [],
      "source": [
        "import warnings\n",
        "warnings.filterwarnings('ignore')"
      ],
      "id": "sy6JK6BW6cWW"
    },
    {
      "cell_type": "code",
      "execution_count": 12,
      "metadata": {
        "id": "JSP9bEA_6cWX",
        "outputId": "5cef59c5-9c00-4081-b850-6e1e6ef7ff3c",
        "colab": {
          "base_uri": "https://localhost:8080/",
          "height": 420
        }
      },
      "outputs": [
        {
          "output_type": "display_data",
          "data": {
            "text/plain": [
              "<Figure size 432x432 with 1 Axes>"
            ],
            "image/png": "[encoded data removed]"
          },
          "metadata": {
            "needs_background": "light"
          }
        }
      ],
      "source": [
        "# Price distribution by season\n",
        "bp = cowdata.boxplot(column=[\"price\"], by=[\"season\"], figsize=(6, 6), grid=False)"
      ],
      "id": "JSP9bEA_6cWX"
    },
    {
      "cell_type": "code",
      "execution_count": 13,
      "metadata": {
        "id": "Xxif2rFu6cWX",
        "outputId": "cc455f7a-5113-4d12-b43b-516fd872a5f8",
        "colab": {
          "base_uri": "https://localhost:8080/",
          "height": 420
        }
      },
      "outputs": [
        {
          "output_type": "display_data",
          "data": {
            "text/plain": [
              "<Figure size 432x432 with 1 Axes>"
            ],
            "image/png": "[encoded data removed]"
          },
          "metadata": {
            "needs_background": "light"
          }
        }
      ],
      "source": [
        "# Price distribution by lactation number\n",
        "bp = cowdata.boxplot(column=[\"price\"], by=[\"lact\"], figsize=(6, 6), grid=False)"
      ],
      "id": "Xxif2rFu6cWX"
    },
    {
      "cell_type": "code",
      "execution_count": 14,
      "metadata": {
        "id": "1nKn5Kpl6cWX",
        "outputId": "7993d0d6-d2a4-413d-a474-335549454e91",
        "colab": {
          "base_uri": "https://localhost:8080/",
          "height": 420
        }
      },
      "outputs": [
        {
          "output_type": "display_data",
          "data": {
            "text/plain": [
              "<Figure size 432x432 with 1 Axes>"
            ],
            "image/png": "[encoded data removed]"
          },
          "metadata": {
            "needs_background": "light"
          }
        }
      ],
      "source": [
        "# Price distribution by Calving Ease\n",
        "bp = cowdata.boxplot(column=[\"price\"], by=[\"calvingEase\"], figsize=(6, 6), grid=False)"
      ],
      "id": "1nKn5Kpl6cWX"
    },
    {
      "cell_type": "code",
      "execution_count": 15,
      "metadata": {
        "id": "Q3gTX2Pb6cWX",
        "outputId": "f288531d-0e45-45a5-a795-a4b2acc3de4d",
        "colab": {
          "base_uri": "https://localhost:8080/",
          "height": 420
        }
      },
      "outputs": [
        {
          "output_type": "display_data",
          "data": {
            "text/plain": [
              "<Figure size 432x432 with 1 Axes>"
            ],
            "image/png": "[encoded data removed]"
          },
          "metadata": {
            "needs_background": "light"
          }
        }
      ],
      "source": [
        "# Price distribution by number of lameness cases\n",
        "bp = cowdata.boxplot(column=[\"price\"], by=[\"lameness\"], figsize=(6, 6), grid=False)"
      ],
      "id": "Q3gTX2Pb6cWX"
    },
    {
      "cell_type": "code",
      "execution_count": 16,
      "metadata": {
        "id": "dCA5kTYo6cWY",
        "outputId": "c56e9571-dc90-4240-cde0-6698e45b0698",
        "colab": {
          "base_uri": "https://localhost:8080/",
          "height": 420
        }
      },
      "outputs": [
        {
          "output_type": "display_data",
          "data": {
            "text/plain": [
              "<Figure size 432x432 with 1 Axes>"
            ],
            "image/png": "[encoded data removed]"
          },
          "metadata": {
            "needs_background": "light"
          }
        }
      ],
      "source": [
        "# Price distribution by number of mastitis cases\n",
        "bp = cowdata.boxplot(column=[\"price\"], by=[\"mastitis\"], figsize=(6, 6), grid=False)"
      ],
      "id": "dCA5kTYo6cWY"
    },
    {
      "cell_type": "code",
      "execution_count": 17,
      "metadata": {
        "id": "_SnQvBzA6cWY",
        "outputId": "cef1123f-2f72-49da-bab4-fbacd3194085",
        "colab": {
          "base_uri": "https://localhost:8080/",
          "height": 491
        }
      },
      "outputs": [
        {
          "output_type": "display_data",
          "data": {
            "text/plain": [
              "<Figure size 432x432 with 1 Axes>"
            ],
            "image/png": "[encoded data removed]"
          },
          "metadata": {
            "needs_background": "light"
          }
        }
      ],
      "source": [
        "# Price distribution by culling reason\n",
        "bp = cowdata.boxplot(column=[\"price\"], by=[\"reason\"], figsize=(6, 6), grid=False, rot=45)"
      ],
      "id": "_SnQvBzA6cWY"
    },
    {
      "cell_type": "code",
      "execution_count": 18,
      "metadata": {
        "id": "O1bd5JFw6cWZ",
        "outputId": "70e5694b-2843-44b7-f9ce-630489714d0c",
        "colab": {
          "base_uri": "https://localhost:8080/",
          "height": 420
        }
      },
      "outputs": [
        {
          "output_type": "display_data",
          "data": {
            "text/plain": [
              "<Figure size 432x432 with 1 Axes>"
            ],
            "image/png": "[encoded data removed]"
          },
          "metadata": {
            "needs_background": "light"
          }
        }
      ],
      "source": [
        "# Price distribution by lactation stage\n",
        "bp = cowdata.boxplot(column=[\"price\"], by=[\"lactStage\"], figsize=(6, 6), grid=False)"
      ],
      "id": "O1bd5JFw6cWZ"
    },
    {
      "cell_type": "markdown",
      "metadata": {
        "id": "h3azcrvT6cWZ"
      },
      "source": [
        "### PART II. CORRELATION\n",
        "Creating a subset of the data set with only numerical variables to calculate Pearson Correlation"
      ],
      "id": "h3azcrvT6cWZ"
    },
    {
      "cell_type": "code",
      "execution_count": 20,
      "metadata": {
        "id": "kStDTWgw6cWZ",
        "outputId": "fbfbf635-398c-4514-c9ff-3c88a8d87a0a",
        "colab": {
          "base_uri": "https://localhost:8080/",
          "height": 143
        }
      },
      "outputs": [
        {
          "output_type": "execute_result",
          "data": {
            "text/plain": [
              "          305ME     price        BW\n",
              "305ME  1.000000  0.114321  0.277510\n",
              "price  0.114321  1.000000  0.395458\n",
              "BW     0.277510  0.395458  1.000000"
            ],
            "text/html": [
              "\n",
              "  <div id=\"df-33e6d52a-4d17-4f27-9f7a-bd69c7445f5a\">\n",
              "    <div class=\"colab-df-container\">\n",
              "      <div>\n",
              "<style scoped>\n",
              "    .dataframe tbody tr th:only-of-type {\n",
              "        vertical-align: middle;\n",
              "    }\n",
              "\n",
              "    .dataframe tbody tr th {\n",
              "        vertical-align: top;\n",
              "    }\n",
              "\n",
              "    .dataframe thead th {\n",
              "        text-align: right;\n",
              "    }\n",
              "</style>\n",
              "<table border=\"1\" class=\"dataframe\">\n",
              "  <thead>\n",
              "    <tr style=\"text-align: right;\">\n",
              "      <th></th>\n",
              "      <th>305ME</th>\n",
              "      <th>price</th>\n",
              "      <th>BW</th>\n",
              "    </tr>\n",
              "  </thead>\n",
              "  <tbody>\n",
              "    <tr>\n",
              "      <th>305ME</th>\n",
              "      <td>1.000000</td>\n",
              "      <td>0.114321</td>\n",
              "      <td>0.277510</td>\n",
              "    </tr>\n",
              "    <tr>\n",
              "      <th>price</th>\n",
              "      <td>0.114321</td>\n",
              "      <td>1.000000</td>\n",
              "      <td>0.395458</td>\n",
              "    </tr>\n",
              "    <tr>\n",
              "      <th>BW</th>\n",
              "      <td>0.277510</td>\n",
              "      <td>0.395458</td>\n",
              "      <td>1.000000</td>\n",
              "    </tr>\n",
              "  </tbody>\n",
              "</table>\n",
              "</div>\n",
              "      <button class=\"colab-df-convert\" onclick=\"convertToInteractive('df-33e6d52a-4d17-4f27-9f7a-bd69c7445f5a')\"\n",
              "              title=\"Convert this dataframe to an interactive table.\"\n",
              "              style=\"display:none;\">\n",
              "        \n",
              "  <svg xmlns=\"http://www.w3.org/2000/svg\" height=\"24px\"viewBox=\"0 0 24 24\"\n",
              "       width=\"24px\">\n",
              "    <path d=\"M0 0h24v24H0V0z\" fill=\"none\"/>\n",
              "    <path d=\"M18.56 5.44l.94 2.06.94-2.06 2.06-.94-2.06-.94-.94-2.06-.94 2.06-2.06.94zm-11 1L8.5 8.5l.94-2.06 2.06-.94-2.06-.94L8.5 2.5l-.94 2.06-2.06.94zm10 10l.94 2.06.94-2.06 2.06-.94-2.06-.94-.94-2.06-.94 2.06-2.06.94z\"/><path d=\"M17.41 7.96l-1.37-1.37c-.4-.4-.92-.59-1.43-.59-.52 0-1.04.2-1.43.59L10.3 9.45l-7.72 7.72c-.78.78-.78 2.05 0 2.83L4 21.41c.39.39.9.59 1.41.59.51 0 1.02-.2 1.41-.59l7.78-7.78 2.81-2.81c.8-.78.8-2.07 0-2.86zM5.41 20L4 18.59l7.72-7.72 1.47 1.35L5.41 20z\"/>\n",
              "  </svg>\n",
              "      </button>\n",
              "      \n",
              "  <style>\n",
              "    .colab-df-container {\n",
              "      display:flex;\n",
              "      flex-wrap:wrap;\n",
              "      gap: 12px;\n",
              "    }\n",
              "\n",
              "    .colab-df-convert {\n",
              "      background-color: #E8F0FE;\n",
              "      border: none;\n",
              "      border-radius: 50%;\n",
              "      cursor: pointer;\n",
              "      display: none;\n",
              "      fill: #1967D2;\n",
              "      height: 32px;\n",
              "      padding: 0 0 0 0;\n",
              "      width: 32px;\n",
              "    }\n",
              "\n",
              "    .colab-df-convert:hover {\n",
              "      background-color: #E2EBFA;\n",
              "      box-shadow: 0px 1px 2px rgba(60, 64, 67, 0.3), 0px 1px 3px 1px rgba(60, 64, 67, 0.15);\n",
              "      fill: #174EA6;\n",
              "    }\n",
              "\n",
              "    [theme=dark] .colab-df-convert {\n",
              "      background-color: #3B4455;\n",
              "      fill: #D2E3FC;\n",
              "    }\n",
              "\n",
              "    [theme=dark] .colab-df-convert:hover {\n",
              "      background-color: #434B5C;\n",
              "      box-shadow: 0px 1px 3px 1px rgba(0, 0, 0, 0.15);\n",
              "      filter: drop-shadow(0px 1px 2px rgba(0, 0, 0, 0.3));\n",
              "      fill: #FFFFFF;\n",
              "    }\n",
              "  </style>\n",
              "\n",
              "      <script>\n",
              "        const buttonEl =\n",
              "          document.querySelector('#df-33e6d52a-4d17-4f27-9f7a-bd69c7445f5a button.colab-df-convert');\n",
              "        buttonEl.style.display =\n",
              "          google.colab.kernel.accessAllowed ? 'block' : 'none';\n",
              "\n",
              "        async function convertToInteractive(key) {\n",
              "          const element = document.querySelector('#df-33e6d52a-4d17-4f27-9f7a-bd69c7445f5a');\n",
              "          const dataTable =\n",
              "            await google.colab.kernel.invokeFunction('convertToInteractive',\n",
              "                                                     [key], {});\n",
              "          if (!dataTable) return;\n",
              "\n",
              "          const docLinkHtml = 'Like what you see? Visit the ' +\n",
              "            '<a target=\"_blank\" href=https://colab.research.google.com/notebooks/data_table.ipynb>data table notebook</a>'\n",
              "            + ' to learn more about interactive tables.';\n",
              "          element.innerHTML = '';\n",
              "          dataTable['output_type'] = 'display_data';\n",
              "          await google.colab.output.renderOutput(dataTable, element);\n",
              "          const docLink = document.createElement('div');\n",
              "          docLink.innerHTML = docLinkHtml;\n",
              "          element.appendChild(docLink);\n",
              "        }\n",
              "      </script>\n",
              "    </div>\n",
              "  </div>\n",
              "  "
            ]
          },
          "metadata": {},
          "execution_count": 20
        }
      ],
      "source": [
        "cowdata[[\"305ME\", \"price\", \"BW\"]].corr()"
      ],
      "id": "kStDTWgw6cWZ"
    },
    {
      "cell_type": "markdown",
      "metadata": {
        "id": "OXhJXZ-A6cWZ"
      },
      "source": [
        "### PART III. REGRESSION"
      ],
      "id": "OXhJXZ-A6cWZ"
    },
    {
      "cell_type": "markdown",
      "metadata": {
        "id": "dzO2eukR6cWa"
      },
      "source": [
        "### Linear Regression\n",
        "Using `statsmodel` package to fit a linear model. Adding `C()` around each variable name to converts it into a categorical variable during analysis"
      ],
      "id": "dzO2eukR6cWa"
    },
    {
      "cell_type": "code",
      "execution_count": 21,
      "metadata": {
        "id": "QoxKF7Aq6cWa",
        "outputId": "c11cc7e2-ba93-4b6f-d64b-1d1a9565a151",
        "colab": {
          "base_uri": "https://localhost:8080/"
        }
      },
      "outputs": [
        {
          "output_type": "stream",
          "name": "stdout",
          "text": [
            "                            OLS Regression Results                            \n",
            "==============================================================================\n",
            "Dep. Variable:                  price   R-squared:                       0.500\n",
            "Model:                            OLS   Adj. R-squared:                  0.467\n",
            "Method:                 Least Squares   F-statistic:                     14.98\n",
            "Date:                Sat, 24 Sep 2022   Prob (F-statistic):           2.31e-42\n",
            "Time:                        05:15:16   Log-Likelihood:                -1433.5\n",
            "No. Observations:                 400   AIC:                             2919.\n",
            "Df Residuals:                     374   BIC:                             3023.\n",
            "Df Model:                          25                                         \n",
            "Covariance Type:            nonrobust                                         \n",
            "=====================================================================================================\n",
            "                                        coef    std err          t      P>|t|      [0.025      0.975]\n",
            "-----------------------------------------------------------------------------------------------------\n",
            "Intercept                            31.1377      4.380      7.109      0.000      22.525      39.750\n",
            "C(season)[T.2]                       15.7267      1.824      8.624      0.000      12.141      19.313\n",
            "C(lact)[T.2]                         -6.1356      1.360     -4.510      0.000      -8.811      -3.460\n",
            "C(lact)[T.3]                         -6.8803      1.577     -4.364      0.000      -9.981      -3.780\n",
            "C(lact)[T.4]                         -6.9064      1.758     -3.928      0.000     -10.364      -3.449\n",
            "C(lact)[T.5]                        -10.2479      2.197     -4.664      0.000     -14.568      -5.927\n",
            "C(lact)[T.6]                        -16.5453      2.296     -7.205      0.000     -21.061     -12.030\n",
            "C(calvingEase)[T.2]                   0.2115      1.620      0.131      0.896      -2.974       3.397\n",
            "C(lameness)[T.1]                      0.3962      1.245      0.318      0.750      -2.052       2.844\n",
            "C(lameness)[T.2]                     -1.6310      1.856     -0.879      0.380      -5.280       2.018\n",
            "C(lameness)[T.3]                     -0.7979      3.033     -0.263      0.793      -6.761       5.165\n",
            "C(lameness)[T.4]                     -7.0401      2.035     -3.459      0.001     -11.042      -3.038\n",
            "C(mastitis)[T.1]                      1.6625      1.267      1.312      0.190      -0.830       4.155\n",
            "C(mastitis)[T.2]                      2.4457      1.497      1.634      0.103      -0.498       5.390\n",
            "C(mastitis)[T.3]                      2.4603      1.832      1.343      0.180      -1.141       6.062\n",
            "C(mastitis)[T.4]                      0.4717      1.553      0.304      0.761      -2.582       3.525\n",
            "C(reason)[T.4-Breeding]              -1.8274      1.276     -1.432      0.153      -4.337       0.682\n",
            "C(reason)[T.5-Injury]               -13.2023      2.106     -6.270      0.000     -17.342      -9.062\n",
            "C(reason)[T.7-Mastitis and Udder]    -2.1616      1.664     -1.299      0.195      -5.433       1.110\n",
            "C(reason)[T.8-Abort]                 -3.9629      2.569     -1.542      0.124      -9.015       1.089\n",
            "C(reason)[T.Feet and leg]            -7.8383      2.021     -3.877      0.000     -11.813      -3.863\n",
            "C(reason)[T.Other]                   -7.1847      2.926     -2.455      0.015     -12.938      -1.431\n",
            "C(lactStage)[T.Late Lactation]       -2.9317      3.078     -0.952      0.342      -8.985       3.121\n",
            "C(lactStage)[T.Mid Lactation]        -3.6754      2.687     -1.368      0.172      -8.959       1.608\n",
            "x305ME                               -0.0002      0.000     -1.284      0.200      -0.001       0.000\n",
            "BW                                    0.0204      0.003      7.840      0.000       0.015       0.026\n",
            "==============================================================================\n",
            "Omnibus:                        8.553   Durbin-Watson:                   1.709\n",
            "Prob(Omnibus):                  0.014   Jarque-Bera (JB):               14.255\n",
            "Skew:                          -0.038   Prob(JB):                     0.000803\n",
            "Kurtosis:                       3.922   Cond. No.                     1.47e+05\n",
            "==============================================================================\n",
            "\n",
            "Notes:\n",
            "[1] Standard Errors assume that the covariance matrix of the errors is correctly specified.\n",
            "[2] The condition number is large, 1.47e+05. This might indicate that there are\n",
            "strong multicollinearity or other numerical problems.\n"
          ]
        }
      ],
      "source": [
        "from statsmodels.formula.api import ols\n",
        "cowdata = cowdata.rename(columns={\"305ME\": \"x305ME\"}) # Rename column so it doesn't start with a digit\n",
        "lm = ols('price ~ C(season) + C(lact) + C(calvingEase) + C(lameness) + C(mastitis) + C(reason) + C(lactStage) + x305ME + BW',\n",
        "               data=cowdata).fit()\n",
        "print(lm.summary())"
      ],
      "id": "QoxKF7Aq6cWa"
    },
    {
      "cell_type": "markdown",
      "metadata": {
        "id": "QolZsi5x6cWa"
      },
      "source": [
        "#### ANOVA"
      ],
      "id": "QolZsi5x6cWa"
    },
    {
      "cell_type": "code",
      "execution_count": 22,
      "metadata": {
        "id": "a1_ah0Ci6cWb",
        "outputId": "0deb7235-0ed8-48ce-d07b-c4aa4199296e",
        "colab": {
          "base_uri": "https://localhost:8080/"
        }
      },
      "outputs": [
        {
          "output_type": "stream",
          "name": "stdout",
          "text": [
            "                   df        sum_sq      mean_sq          F        PR(>F)\n",
            "C(season)         1.0   6152.117405  6152.117405  75.787769  1.025543e-16\n",
            "C(lact)           5.0   4283.662930   856.732586  10.554066  1.705088e-09\n",
            "C(calvingEase)    1.0      2.380706     2.380706   0.029328  8.641168e-01\n",
            "C(lameness)       4.0   2135.696319   533.924080   6.577396  4.003794e-05\n",
            "C(mastitis)       4.0   2480.071052   620.017763   7.637982  6.344807e-06\n",
            "C(reason)         6.0   9664.241531  1610.706922  19.842255  3.851182e-20\n",
            "C(lactStage)      2.0    591.857264   295.928632   3.645537  2.703948e-02\n",
            "x305ME            1.0    110.591447   110.591447   1.362373  2.438703e-01\n",
            "BW                1.0   4989.517837  4989.517837  61.465736  4.744632e-14\n",
            "Residual        374.0  30359.673508    81.175598        NaN           NaN\n"
          ]
        }
      ],
      "source": [
        "import statsmodels.api as sm\n",
        "table = sm.stats.anova_lm(lm, typ=1)\n",
        "print(table)"
      ],
      "id": "a1_ah0Ci6cWb"
    },
    {
      "cell_type": "markdown",
      "metadata": {
        "id": "1OiFWxVv6cWb"
      },
      "source": [
        "### Leave-one-out cross-validation"
      ],
      "id": "1OiFWxVv6cWb"
    },
    {
      "cell_type": "code",
      "execution_count": 23,
      "metadata": {
        "id": "dvPE2sQs6cWb",
        "outputId": "4b1ca5da-a22b-41fa-f5be-fbecc78c0afd",
        "colab": {
          "base_uri": "https://localhost:8080/"
        }
      },
      "outputs": [
        {
          "output_type": "stream",
          "name": "stdout",
          "text": [
            "MSE: 88.86995232597725\n",
            "MAE: 7.229225022734254\n",
            "Pearson correlation coefficient: 0.6473430726496251\n"
          ]
        }
      ],
      "source": [
        "import numpy as np\n",
        "n = len(cowdata) # number of rows in the dataset\n",
        "formula = 'price ~ C(season) + C(lact) + C(calvingEase) + C(lameness) + C(mastitis) + C(reason) + C(lactStage) + x305ME + BW'\n",
        "yhat = []\n",
        "for i in range(n): # loop through each row, and train with all other rows\n",
        "    train_data = cowdata.copy()\n",
        "    validation_data = cowdata.iloc[i:i+1]\n",
        "    train_data = train_data.drop(labels=i)\n",
        "    lm = ols(formula, data=train_data).fit()\n",
        "    yhat.append(lm.predict(validation_data).iloc[0])\n",
        "yhat = np.array(yhat)\n",
        "ygnd = cowdata[[\"price\"]].values.squeeze()\n",
        "mse = np.sum((ygnd - yhat)**2) / n\n",
        "mae = np.sum(abs(ygnd - yhat)) / n\n",
        "corr = np.corrcoef(yhat, ygnd)  \n",
        "print(f\"MSE: {mse}\")\n",
        "print(f\"MAE: {mae}\")\n",
        "print(f\"Pearson correlation coefficient: {corr[0][1]}\")"
      ],
      "id": "dvPE2sQs6cWb"
    },
    {
      "cell_type": "code",
      "execution_count": 24,
      "metadata": {
        "id": "5fJFhyr56cWb",
        "outputId": "ad619c79-492f-4013-9d96-ccaedf521626",
        "colab": {
          "base_uri": "https://localhost:8080/",
          "height": 282
        }
      },
      "outputs": [
        {
          "output_type": "execute_result",
          "data": {
            "text/plain": [
              "[<matplotlib.lines.Line2D at 0x7feec239b210>]"
            ]
          },
          "metadata": {},
          "execution_count": 24
        },
        {
          "output_type": "display_data",
          "data": {
            "text/plain": [
              "<Figure size 432x288 with 1 Axes>"
            ],
            "image/png": "[encoded data removed]"
          },
          "metadata": {
            "needs_background": "light"
          }
        }
      ],
      "source": [
        "import matplotlib.pyplot as plt\n",
        "plt.plot(yhat, ygnd, 'o')\n",
        "m, b = np.polyfit(yhat, ygnd, 1)\n",
        "plt.plot(yhat, m*yhat + b)"
      ],
      "id": "5fJFhyr56cWb"
    },
    {
      "cell_type": "code",
      "execution_count": null,
      "metadata": {
        "id": "eWH23Db96cWb"
      },
      "outputs": [],
      "source": [],
      "id": "eWH23Db96cWb"
    }
  ],
  "metadata": {
    "kernelspec": {
      "display_name": "Python 3",
      "language": "python",
      "name": "python3"
    },
    "language_info": {
      "codemirror_mode": {
        "name": "ipython",
        "version": 3
      },
      "file_extension": ".py",
      "mimetype": "text/x-python",
      "name": "python",
      "nbconvert_exporter": "python",
      "pygments_lexer": "ipython3",
      "version": "3.6.13"
    },
    "colab": {
      "provenance": []
    }
  },
  "nbformat": 4,
  "nbformat_minor": 5
}