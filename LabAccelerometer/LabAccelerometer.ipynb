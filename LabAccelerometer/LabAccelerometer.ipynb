{
  "nbformat": 4,
  "nbformat_minor": 0,
  "metadata": {
    "colab": {
      "provenance": [],
      "collapsed_sections": []
    },
    "kernelspec": {
      "name": "python3",
      "display_name": "Python 3"
    },
    "language_info": {
      "name": "python"
    }
  },
  "cells": [
    {
      "cell_type": "code",
      "source": [
        "!git clone https://github.com/referreira-wisc/digag2022.git"
      ],
      "metadata": {
        "id": "VE115a18SQRo"
      },
      "execution_count": null,
      "outputs": []
    },
    {
      "cell_type": "code",
      "source": [
        "import os\n",
        "os.chdir('digag2022/LabAccelerometer')"
      ],
      "metadata": {
        "id": "YfDdmleQSUt8"
      },
      "execution_count": null,
      "outputs": []
    },
    {
      "cell_type": "markdown",
      "source": [
        "### Imports"
      ],
      "metadata": {
        "id": "HamR71sdFTAO"
      }
    },
    {
      "cell_type": "code",
      "execution_count": null,
      "metadata": {
        "id": "JcB2ZiL0XrS8"
      },
      "outputs": [],
      "source": [
        "import numpy as np\n",
        "import pandas as pd\n",
        "from sklearn.ensemble import RandomForestClassifier\n",
        "import matplotlib.pyplot as plt"
      ]
    },
    {
      "cell_type": "markdown",
      "source": [
        "### Load excel file"
      ],
      "metadata": {
        "id": "15gXWaaAFWQh"
      }
    },
    {
      "cell_type": "code",
      "source": [
        "data = pd.read_excel('Accelerometer_HW03.xlsx')\n",
        "data"
      ],
      "metadata": {
        "id": "FjcAJ9VXdh58"
      },
      "execution_count": null,
      "outputs": []
    },
    {
      "cell_type": "markdown",
      "source": [
        "### Create variables and labels numpy arrays"
      ],
      "metadata": {
        "id": "QNf7qzJvFfSu"
      }
    },
    {
      "cell_type": "code",
      "source": [
        "X = np.array(data[['AccX', 'AccY', 'AccZ']])\n",
        "y = np.array(data['Label'])\n",
        "print(X.shape)\n",
        "print(y.shape)\n",
        "print(X)\n",
        "print(y)"
      ],
      "metadata": {
        "id": "RxrH658UgYQj"
      },
      "execution_count": null,
      "outputs": []
    },
    {
      "cell_type": "markdown",
      "source": [
        "### Train Random Forest and perform leave-one-person-out cross-validation (AccX, AccY, and AccZ as features)"
      ],
      "metadata": {
        "id": "pG1dv06zFjNk"
      }
    },
    {
      "cell_type": "code",
      "source": [
        "person_list = data['Person'].unique()\n",
        "accuracies = []\n",
        "for person in person_list:\n",
        "  train_ids = np.array(data['Person'] != person)\n",
        "  test_ids = np.array(data['Person'] == person)\n",
        "  train_X = X[train_ids]\n",
        "  train_y = y[train_ids]\n",
        "  test_X = X[test_ids]\n",
        "  test_y = y[test_ids]\n",
        "  # Create Random Forest estimator with default hyperparameters\n",
        "  rf = RandomForestClassifier()\n",
        "  # Train Random Forest estimator with training set\n",
        "  rf.fit(train_X, train_y)\n",
        "  # Predict test set using trained Random Forest\n",
        "  ypred = rf.predict(test_X)\n",
        "  ytrue = test_y\n",
        "  accuracy = np.mean(ypred == ytrue)\n",
        "  accuracies.append(accuracy)\n",
        "  print(f'Accuracy on {person}: {accuracy:.3f}')\n",
        "print(f'Mean accuracy: {np.mean(accuracies):.3f}')"
      ],
      "metadata": {
        "id": "dVBXkrQ2dm-w"
      },
      "execution_count": null,
      "outputs": []
    },
    {
      "cell_type": "markdown",
      "source": [
        "### Group AccX, AccY, and AccZ values into windows (windows of size 10 in this case)"
      ],
      "metadata": {
        "id": "g5CjwME-GOJ5"
      }
    },
    {
      "cell_type": "code",
      "source": [
        "def prepare_data(window_size):\n",
        "  X_all = []\n",
        "  y_all = []\n",
        "  person_all = []\n",
        "  for person in person_list:\n",
        "    X_person = np.array(data[data['Person']==person][['AccX', 'AccY', 'AccZ']])\n",
        "    y_person = np.array(data[data['Person']==person]['Label'])\n",
        "    for i in range(len(X_person) - window_size + 1):\n",
        "      xi = []\n",
        "      yi = []\n",
        "      for w in range(window_size):\n",
        "        xi.append(X_person[i + w])\n",
        "        yi.append(y_person[i + w])\n",
        "      xi = np.array(xi).flatten()\n",
        "      yi = np.array(yi)\n",
        "      unique, pos = np.unique(yi, return_inverse=True)\n",
        "      counts = np.bincount(pos)\n",
        "      maxpos = np.argmax(counts)\n",
        "      yi = unique[maxpos]\n",
        "      X_all.append(xi)\n",
        "      y_all.append(yi)\n",
        "      person_all.append(person)\n",
        "  X_all = np.array(X_all)\n",
        "  y_all = np.array(y_all)\n",
        "  person_all = np.array(person_all)\n",
        "  print(f'X_all shape: {X_all.shape}')\n",
        "  print(f'y_all shape: {y_all.shape}')\n",
        "  print(f'person_all shape: {person_all.shape}')\n",
        "  return X_all, y_all, person_all\n",
        "\n",
        "window_size = 10\n",
        "X_all, y_all, person_all = prepare_data(window_size=window_size)"
      ],
      "metadata": {
        "id": "-vKb95z2GNbz"
      },
      "execution_count": null,
      "outputs": []
    },
    {
      "cell_type": "markdown",
      "source": [
        "### Train Random Forest and perform leave-one-person-out cross-validation (windows of AccX, AccY, and AccZ as features)"
      ],
      "metadata": {
        "id": "ekMFEGWZKXpt"
      }
    },
    {
      "cell_type": "code",
      "source": [
        "def train_random_forest(X_all, y_all, person_all):\n",
        "  person_list = data['Person'].unique()\n",
        "  accuracies = []\n",
        "  for person in person_list:\n",
        "    train_ids = person_all != person\n",
        "    test_ids = person_all == person\n",
        "    train_X = X_all[train_ids]\n",
        "    train_y = y_all[train_ids]\n",
        "    test_X = X_all[test_ids]\n",
        "    test_y = y_all[test_ids]\n",
        "    # Create Random Forest estimator with default hyperparameters\n",
        "    rf = RandomForestClassifier()\n",
        "    # Train Random Forest estimator with training set\n",
        "    rf.fit(train_X, train_y)\n",
        "    # Predict test set using trained Random Forest\n",
        "    ypred = rf.predict(test_X)\n",
        "    ytrue = test_y\n",
        "    accuracy = np.mean(ypred == ytrue)\n",
        "    accuracies.append(accuracy)\n",
        "    print(f'Accuracy on {person}: {accuracy:.3f}')\n",
        "  print(f'Mean accuracy: {np.mean(accuracies):.3f}')\n",
        "  return np.mean(accuracies)\n",
        "\n",
        "print(f'Window size: {window_size}')\n",
        "_ = train_random_forest(X_all, y_all, person_all)"
      ],
      "metadata": {
        "id": "t1OkWNA8J51F"
      },
      "execution_count": null,
      "outputs": []
    },
    {
      "cell_type": "markdown",
      "source": [
        "### Try a few different window sizes"
      ],
      "metadata": {
        "id": "ZY7KtPd_ORWb"
      }
    },
    {
      "cell_type": "code",
      "source": [
        "accuracies_per_window_size = []\n",
        "window_sizes = [1, 3, 5, 10, 20, 50, 100, 200]\n",
        "for window_size in window_sizes:\n",
        "  print(f'Window size: {window_size}')\n",
        "  X_all, y_all, person_all = prepare_data(window_size=window_size)\n",
        "  mean_acc = train_random_forest(X_all, y_all, person_all)\n",
        "  accuracies_per_window_size.append(mean_acc)\n",
        "  print('\\n')"
      ],
      "metadata": {
        "id": "tXLyYaVQOQmc"
      },
      "execution_count": null,
      "outputs": []
    },
    {
      "cell_type": "markdown",
      "source": [
        "### Plot mean accuracy by window size"
      ],
      "metadata": {
        "id": "CWKk5V5LPW73"
      }
    },
    {
      "cell_type": "code",
      "source": [
        "plt.bar(np.array(window_sizes, dtype=str), accuracies_per_window_size)\n",
        "plt.ylim([min(accuracies_per_window_size) - 0.01, max(accuracies_per_window_size) + 0.01])\n",
        "plt.show()"
      ],
      "metadata": {
        "id": "LlEpW9rWPWX7"
      },
      "execution_count": null,
      "outputs": []
    }
  ]
}