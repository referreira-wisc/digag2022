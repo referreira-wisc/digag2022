{
  "nbformat": 4,
  "nbformat_minor": 0,
  "metadata": {
    "colab": {
      "provenance": [],
      "collapsed_sections": []
    },
    "kernelspec": {
      "name": "python3",
      "display_name": "Python 3"
    },
    "language_info": {
      "name": "python"
    }
  },
  "cells": [
    {
      "cell_type": "code",
      "source": [
        "!git clone https://github.com/referreira-wisc/digag2022.git"
      ],
      "metadata": {
        "id": "VE115a18SQRo"
      },
      "execution_count": null,
      "outputs": []
    },
    {
      "cell_type": "code",
      "source": [
        "import os\n",
        "os.chdir('digag2022/LabAccelerometer')"
      ],
      "metadata": {
        "id": "YfDdmleQSUt8"
      },
      "execution_count": null,
      "outputs": []
    },
    {
      "cell_type": "markdown",
      "source": [
        "### Imports"
      ],
      "metadata": {
        "id": "HamR71sdFTAO"
      }
    },
    {
      "cell_type": "code",
      "execution_count": 96,
      "metadata": {
        "id": "JcB2ZiL0XrS8"
      },
      "outputs": [],
      "source": [
        "import numpy as np\n",
        "import pandas as pd\n",
        "from sklearn.ensemble import RandomForestClassifier\n",
        "import matplotlib.pyplot as plt"
      ]
    },
    {
      "cell_type": "markdown",
      "source": [
        "### Load excel file"
      ],
      "metadata": {
        "id": "15gXWaaAFWQh"
      }
    },
    {
      "cell_type": "code",
      "source": [
        "data = pd.read_excel('Accelerometer_HW03.xlsx')\n",
        "data"
      ],
      "metadata": {
        "colab": {
          "base_uri": "https://localhost:8080/",
          "height": 424
        },
        "id": "FjcAJ9VXdh58",
        "outputId": "abdad211-7bcd-4f15-e00f-e7ad3690d506"
      },
      "execution_count": 30,
      "outputs": [
        {
          "output_type": "execute_result",
          "data": {
            "text/plain": [
              "      time_seconds      AccX      AccY      AccZ    Label Person\n",
              "0               67  0.082596  4.078347  9.000614  walking  user1\n",
              "1              134  0.114917  4.196855  8.622347  walking  user1\n",
              "2              201 -0.062247  4.327333  8.760008  walking  user1\n",
              "3              268 -0.113720  4.274663  8.646288  walking  user1\n",
              "4              335 -0.047882  4.244737  8.607983  walking  user1\n",
              "...            ...       ...       ...       ...      ...    ...\n",
              "2752         21105 -0.381480  6.012052  7.449938  jumping  user6\n",
              "2753         21172 -0.677920  5.871917  7.687091  jumping  user6\n",
              "2754         21239 -0.470712  6.310888  7.699667  jumping  user6\n",
              "2755         21306 -1.101321  6.410900  7.546356  jumping  user6\n",
              "2756         21373 -1.524123  6.337837  7.488865  jumping  user6\n",
              "\n",
              "[2757 rows x 6 columns]"
            ],
            "text/html": [
              "\n",
              "  <div id=\"df-decc3c7a-819e-4f77-93cc-16b1ad283e51\">\n",
              "    <div class=\"colab-df-container\">\n",
              "      <div>\n",
              "<style scoped>\n",
              "    .dataframe tbody tr th:only-of-type {\n",
              "        vertical-align: middle;\n",
              "    }\n",
              "\n",
              "    .dataframe tbody tr th {\n",
              "        vertical-align: top;\n",
              "    }\n",
              "\n",
              "    .dataframe thead th {\n",
              "        text-align: right;\n",
              "    }\n",
              "</style>\n",
              "<table border=\"1\" class=\"dataframe\">\n",
              "  <thead>\n",
              "    <tr style=\"text-align: right;\">\n",
              "      <th></th>\n",
              "      <th>time_seconds</th>\n",
              "      <th>AccX</th>\n",
              "      <th>AccY</th>\n",
              "      <th>AccZ</th>\n",
              "      <th>Label</th>\n",
              "      <th>Person</th>\n",
              "    </tr>\n",
              "  </thead>\n",
              "  <tbody>\n",
              "    <tr>\n",
              "      <th>0</th>\n",
              "      <td>67</td>\n",
              "      <td>0.082596</td>\n",
              "      <td>4.078347</td>\n",
              "      <td>9.000614</td>\n",
              "      <td>walking</td>\n",
              "      <td>user1</td>\n",
              "    </tr>\n",
              "    <tr>\n",
              "      <th>1</th>\n",
              "      <td>134</td>\n",
              "      <td>0.114917</td>\n",
              "      <td>4.196855</td>\n",
              "      <td>8.622347</td>\n",
              "      <td>walking</td>\n",
              "      <td>user1</td>\n",
              "    </tr>\n",
              "    <tr>\n",
              "      <th>2</th>\n",
              "      <td>201</td>\n",
              "      <td>-0.062247</td>\n",
              "      <td>4.327333</td>\n",
              "      <td>8.760008</td>\n",
              "      <td>walking</td>\n",
              "      <td>user1</td>\n",
              "    </tr>\n",
              "    <tr>\n",
              "      <th>3</th>\n",
              "      <td>268</td>\n",
              "      <td>-0.113720</td>\n",
              "      <td>4.274663</td>\n",
              "      <td>8.646288</td>\n",
              "      <td>walking</td>\n",
              "      <td>user1</td>\n",
              "    </tr>\n",
              "    <tr>\n",
              "      <th>4</th>\n",
              "      <td>335</td>\n",
              "      <td>-0.047882</td>\n",
              "      <td>4.244737</td>\n",
              "      <td>8.607983</td>\n",
              "      <td>walking</td>\n",
              "      <td>user1</td>\n",
              "    </tr>\n",
              "    <tr>\n",
              "      <th>...</th>\n",
              "      <td>...</td>\n",
              "      <td>...</td>\n",
              "      <td>...</td>\n",
              "      <td>...</td>\n",
              "      <td>...</td>\n",
              "      <td>...</td>\n",
              "    </tr>\n",
              "    <tr>\n",
              "      <th>2752</th>\n",
              "      <td>21105</td>\n",
              "      <td>-0.381480</td>\n",
              "      <td>6.012052</td>\n",
              "      <td>7.449938</td>\n",
              "      <td>jumping</td>\n",
              "      <td>user6</td>\n",
              "    </tr>\n",
              "    <tr>\n",
              "      <th>2753</th>\n",
              "      <td>21172</td>\n",
              "      <td>-0.677920</td>\n",
              "      <td>5.871917</td>\n",
              "      <td>7.687091</td>\n",
              "      <td>jumping</td>\n",
              "      <td>user6</td>\n",
              "    </tr>\n",
              "    <tr>\n",
              "      <th>2754</th>\n",
              "      <td>21239</td>\n",
              "      <td>-0.470712</td>\n",
              "      <td>6.310888</td>\n",
              "      <td>7.699667</td>\n",
              "      <td>jumping</td>\n",
              "      <td>user6</td>\n",
              "    </tr>\n",
              "    <tr>\n",
              "      <th>2755</th>\n",
              "      <td>21306</td>\n",
              "      <td>-1.101321</td>\n",
              "      <td>6.410900</td>\n",
              "      <td>7.546356</td>\n",
              "      <td>jumping</td>\n",
              "      <td>user6</td>\n",
              "    </tr>\n",
              "    <tr>\n",
              "      <th>2756</th>\n",
              "      <td>21373</td>\n",
              "      <td>-1.524123</td>\n",
              "      <td>6.337837</td>\n",
              "      <td>7.488865</td>\n",
              "      <td>jumping</td>\n",
              "      <td>user6</td>\n",
              "    </tr>\n",
              "  </tbody>\n",
              "</table>\n",
              "<p>2757 rows × 6 columns</p>\n",
              "</div>\n",
              "      <button class=\"colab-df-convert\" onclick=\"convertToInteractive('df-decc3c7a-819e-4f77-93cc-16b1ad283e51')\"\n",
              "              title=\"Convert this dataframe to an interactive table.\"\n",
              "              style=\"display:none;\">\n",
              "        \n",
              "  <svg xmlns=\"http://www.w3.org/2000/svg\" height=\"24px\"viewBox=\"0 0 24 24\"\n",
              "       width=\"24px\">\n",
              "    <path d=\"M0 0h24v24H0V0z\" fill=\"none\"/>\n",
              "    <path d=\"M18.56 5.44l.94 2.06.94-2.06 2.06-.94-2.06-.94-.94-2.06-.94 2.06-2.06.94zm-11 1L8.5 8.5l.94-2.06 2.06-.94-2.06-.94L8.5 2.5l-.94 2.06-2.06.94zm10 10l.94 2.06.94-2.06 2.06-.94-2.06-.94-.94-2.06-.94 2.06-2.06.94z\"/><path d=\"M17.41 7.96l-1.37-1.37c-.4-.4-.92-.59-1.43-.59-.52 0-1.04.2-1.43.59L10.3 9.45l-7.72 7.72c-.78.78-.78 2.05 0 2.83L4 21.41c.39.39.9.59 1.41.59.51 0 1.02-.2 1.41-.59l7.78-7.78 2.81-2.81c.8-.78.8-2.07 0-2.86zM5.41 20L4 18.59l7.72-7.72 1.47 1.35L5.41 20z\"/>\n",
              "  </svg>\n",
              "      </button>\n",
              "      \n",
              "  <style>\n",
              "    .colab-df-container {\n",
              "      display:flex;\n",
              "      flex-wrap:wrap;\n",
              "      gap: 12px;\n",
              "    }\n",
              "\n",
              "    .colab-df-convert {\n",
              "      background-color: #E8F0FE;\n",
              "      border: none;\n",
              "      border-radius: 50%;\n",
              "      cursor: pointer;\n",
              "      display: none;\n",
              "      fill: #1967D2;\n",
              "      height: 32px;\n",
              "      padding: 0 0 0 0;\n",
              "      width: 32px;\n",
              "    }\n",
              "\n",
              "    .colab-df-convert:hover {\n",
              "      background-color: #E2EBFA;\n",
              "      box-shadow: 0px 1px 2px rgba(60, 64, 67, 0.3), 0px 1px 3px 1px rgba(60, 64, 67, 0.15);\n",
              "      fill: #174EA6;\n",
              "    }\n",
              "\n",
              "    [theme=dark] .colab-df-convert {\n",
              "      background-color: #3B4455;\n",
              "      fill: #D2E3FC;\n",
              "    }\n",
              "\n",
              "    [theme=dark] .colab-df-convert:hover {\n",
              "      background-color: #434B5C;\n",
              "      box-shadow: 0px 1px 3px 1px rgba(0, 0, 0, 0.15);\n",
              "      filter: drop-shadow(0px 1px 2px rgba(0, 0, 0, 0.3));\n",
              "      fill: #FFFFFF;\n",
              "    }\n",
              "  </style>\n",
              "\n",
              "      <script>\n",
              "        const buttonEl =\n",
              "          document.querySelector('#df-decc3c7a-819e-4f77-93cc-16b1ad283e51 button.colab-df-convert');\n",
              "        buttonEl.style.display =\n",
              "          google.colab.kernel.accessAllowed ? 'block' : 'none';\n",
              "\n",
              "        async function convertToInteractive(key) {\n",
              "          const element = document.querySelector('#df-decc3c7a-819e-4f77-93cc-16b1ad283e51');\n",
              "          const dataTable =\n",
              "            await google.colab.kernel.invokeFunction('convertToInteractive',\n",
              "                                                     [key], {});\n",
              "          if (!dataTable) return;\n",
              "\n",
              "          const docLinkHtml = 'Like what you see? Visit the ' +\n",
              "            '<a target=\"_blank\" href=https://colab.research.google.com/notebooks/data_table.ipynb>data table notebook</a>'\n",
              "            + ' to learn more about interactive tables.';\n",
              "          element.innerHTML = '';\n",
              "          dataTable['output_type'] = 'display_data';\n",
              "          await google.colab.output.renderOutput(dataTable, element);\n",
              "          const docLink = document.createElement('div');\n",
              "          docLink.innerHTML = docLinkHtml;\n",
              "          element.appendChild(docLink);\n",
              "        }\n",
              "      </script>\n",
              "    </div>\n",
              "  </div>\n",
              "  "
            ]
          },
          "metadata": {},
          "execution_count": 30
        }
      ]
    },
    {
      "cell_type": "markdown",
      "source": [
        "### Create variables and labels numpy arrays"
      ],
      "metadata": {
        "id": "QNf7qzJvFfSu"
      }
    },
    {
      "cell_type": "code",
      "source": [
        "X = np.array(data[['AccX', 'AccY', 'AccZ']])\n",
        "y = np.array(data['Label'])\n",
        "print(X.shape)\n",
        "print(y.shape)\n",
        "print(X)\n",
        "print(y)"
      ],
      "metadata": {
        "colab": {
          "base_uri": "https://localhost:8080/"
        },
        "id": "RxrH658UgYQj",
        "outputId": "ee85fb1f-cd3b-4df4-eb40-98b1dee91640"
      },
      "execution_count": 75,
      "outputs": [
        {
          "output_type": "stream",
          "name": "stdout",
          "text": [
            "(2757, 3)\n",
            "(2757,)\n",
            "[[ 0.08259641  4.07834721  9.00061417]\n",
            " [ 0.11491674  4.19685507  8.62234688]\n",
            " [-0.06224657  4.32733345  8.76000786]\n",
            " ...\n",
            " [-0.47071153  6.31088829  7.69966698]\n",
            " [-1.10132122  6.41089964  7.5463562 ]\n",
            " [-1.52412319  6.33783722  7.4888649 ]]\n",
            "['walking' 'walking' 'walking' ... 'jumping' 'jumping' 'jumping']\n"
          ]
        }
      ]
    },
    {
      "cell_type": "markdown",
      "source": [
        "### Train Random Forest and perform leave-one-person-out cross-validation (AccX, AccY, and AccZ as features)"
      ],
      "metadata": {
        "id": "pG1dv06zFjNk"
      }
    },
    {
      "cell_type": "code",
      "source": [
        "person_list = data['Person'].unique()\n",
        "accuracies = []\n",
        "for person in person_list:\n",
        "  train_ids = np.array(data['Person'] != person)\n",
        "  test_ids = np.array(data['Person'] == person)\n",
        "  train_X = X[train_ids]\n",
        "  train_y = y[train_ids]\n",
        "  test_X = X[test_ids]\n",
        "  test_y = y[test_ids]\n",
        "  # Create Random Forest estimator with default hyperparameters\n",
        "  rf = RandomForestClassifier()\n",
        "  # Train Random Forest estimator with training set\n",
        "  rf.fit(train_X, train_y)\n",
        "  # Predict test set using trained Random Forest\n",
        "  ypred = rf.predict(test_X)\n",
        "  ytrue = test_y\n",
        "  accuracy = np.mean(ypred == ytrue)\n",
        "  accuracies.append(accuracy)\n",
        "  print(f'Accuracy on {person}: {accuracy:.3f}')\n",
        "print(f'Mean accuracy: {np.mean(accuracies):.3f}')"
      ],
      "metadata": {
        "colab": {
          "base_uri": "https://localhost:8080/"
        },
        "id": "dVBXkrQ2dm-w",
        "outputId": "96dacab9-115c-4f11-8625-144f4f2b65a4"
      },
      "execution_count": 32,
      "outputs": [
        {
          "output_type": "stream",
          "name": "stdout",
          "text": [
            "Accuracy on user1: 0.532\n",
            "Accuracy on user2: 0.459\n",
            "Accuracy on user3: 0.416\n",
            "Accuracy on user4: 0.513\n",
            "Accuracy on user5: 0.458\n",
            "Accuracy on user6: 0.492\n",
            "Mean accuracy: 0.478\n"
          ]
        }
      ]
    },
    {
      "cell_type": "markdown",
      "source": [
        "### Group AccX, AccY, and AccZ values into windows (windows of size 10 in this case)"
      ],
      "metadata": {
        "id": "g5CjwME-GOJ5"
      }
    },
    {
      "cell_type": "code",
      "source": [
        "def prepare_data(window_size):\n",
        "  X_all = []\n",
        "  y_all = []\n",
        "  person_all = []\n",
        "  for person in person_list:\n",
        "    X_person = np.array(data[data['Person']==person][['AccX', 'AccY', 'AccZ']])\n",
        "    y_person = np.array(data[data['Person']==person]['Label'])\n",
        "    for i in range(len(X_person) - window_size + 1):\n",
        "      xi = []\n",
        "      yi = []\n",
        "      for w in range(window_size):\n",
        "        xi.append(X_person[i + w])\n",
        "        yi.append(y_person[i + w])\n",
        "      xi = np.array(xi).flatten()\n",
        "      yi = np.array(yi)\n",
        "      unique, pos = np.unique(yi, return_inverse=True)\n",
        "      counts = np.bincount(pos)\n",
        "      maxpos = np.argmax(counts)\n",
        "      yi = unique[maxpos]\n",
        "      X_all.append(xi)\n",
        "      y_all.append(yi)\n",
        "      person_all.append(person)\n",
        "  X_all = np.array(X_all)\n",
        "  y_all = np.array(y_all)\n",
        "  person_all = np.array(person_all)\n",
        "  print(f'X_all shape: {X_all.shape}')\n",
        "  print(f'y_all shape: {y_all.shape}')\n",
        "  print(f'person_all shape: {person_all.shape}')\n",
        "  return X_all, y_all, person_all\n",
        "\n",
        "window_size = 10\n",
        "X_all, y_all, person_all = prepare_data(window_size=window_size)"
      ],
      "metadata": {
        "colab": {
          "base_uri": "https://localhost:8080/"
        },
        "id": "-vKb95z2GNbz",
        "outputId": "208eedc6-379c-4990-8d49-f65b75e3a6ff"
      },
      "execution_count": 90,
      "outputs": [
        {
          "output_type": "stream",
          "name": "stdout",
          "text": [
            "X_all shape: (2703, 30)\n",
            "y_all shape: (2703,)\n",
            "person_all shape: (2703,)\n"
          ]
        }
      ]
    },
    {
      "cell_type": "markdown",
      "source": [
        "### Train Random Forest and perform leave-one-person-out cross-validation (windows of AccX, AccY, and AccZ as features)"
      ],
      "metadata": {
        "id": "ekMFEGWZKXpt"
      }
    },
    {
      "cell_type": "code",
      "source": [
        "def train_random_forest(X_all, y_all, person_all):\n",
        "  person_list = data['Person'].unique()\n",
        "  accuracies = []\n",
        "  for person in person_list:\n",
        "    train_ids = person_all != person\n",
        "    test_ids = person_all == person\n",
        "    train_X = X_all[train_ids]\n",
        "    train_y = y_all[train_ids]\n",
        "    test_X = X_all[test_ids]\n",
        "    test_y = y_all[test_ids]\n",
        "    # Create Random Forest estimator with default hyperparameters\n",
        "    rf = RandomForestClassifier()\n",
        "    # Train Random Forest estimator with training set\n",
        "    rf.fit(train_X, train_y)\n",
        "    # Predict test set using trained Random Forest\n",
        "    ypred = rf.predict(test_X)\n",
        "    ytrue = test_y\n",
        "    accuracy = np.mean(ypred == ytrue)\n",
        "    accuracies.append(accuracy)\n",
        "    print(f'Accuracy on {person}: {accuracy:.3f}')\n",
        "  print(f'Mean accuracy: {np.mean(accuracies):.3f}')\n",
        "  return np.mean(accuracies)\n",
        "\n",
        "print(f'Window size: {window_size}')\n",
        "_ = train_random_forest(X_all, y_all, person_all)"
      ],
      "metadata": {
        "colab": {
          "base_uri": "https://localhost:8080/"
        },
        "id": "t1OkWNA8J51F",
        "outputId": "6b0f1886-40ca-41b7-e49f-95f3b601c65d"
      },
      "execution_count": 94,
      "outputs": [
        {
          "output_type": "stream",
          "name": "stdout",
          "text": [
            "Window size: 40\n",
            "Accuracy on user1: 0.554\n",
            "Accuracy on user2: 0.499\n",
            "Accuracy on user3: 0.576\n",
            "Accuracy on user4: 0.751\n",
            "Accuracy on user5: 0.717\n",
            "Accuracy on user6: 0.425\n",
            "Mean accuracy: 0.587\n"
          ]
        }
      ]
    },
    {
      "cell_type": "markdown",
      "source": [
        "### Try a few different window sizes"
      ],
      "metadata": {
        "id": "ZY7KtPd_ORWb"
      }
    },
    {
      "cell_type": "code",
      "source": [
        "accuracies_per_window_size = []\n",
        "window_sizes = [1, 3, 5, 10, 20, 50, 100, 200]\n",
        "for window_size in window_sizes:\n",
        "  print(f'Window size: {window_size}')\n",
        "  X_all, y_all, person_all = prepare_data(window_size=window_size)\n",
        "  mean_acc = train_random_forest(X_all, y_all, person_all)\n",
        "  accuracies_per_window_size.append(mean_acc)\n",
        "  print('\\n')"
      ],
      "metadata": {
        "colab": {
          "base_uri": "https://localhost:8080/"
        },
        "id": "tXLyYaVQOQmc",
        "outputId": "4c20e894-2d77-4942-8457-1f0d239d17c7"
      },
      "execution_count": 97,
      "outputs": [
        {
          "output_type": "stream",
          "name": "stdout",
          "text": [
            "Window size: 3\n",
            "X_all shape: (2745, 9)\n",
            "y_all shape: (2745,)\n",
            "person_all shape: (2745,)\n",
            "Accuracy on user1: 0.587\n",
            "Accuracy on user2: 0.466\n",
            "Accuracy on user3: 0.505\n",
            "Accuracy on user4: 0.648\n",
            "Accuracy on user5: 0.504\n",
            "Accuracy on user6: 0.473\n",
            "Mean accuracy: 0.531\n",
            "\n",
            "\n",
            "Window size: 5\n",
            "X_all shape: (2733, 15)\n",
            "y_all shape: (2733,)\n",
            "person_all shape: (2733,)\n",
            "Accuracy on user1: 0.583\n",
            "Accuracy on user2: 0.504\n",
            "Accuracy on user3: 0.547\n",
            "Accuracy on user4: 0.665\n",
            "Accuracy on user5: 0.535\n",
            "Accuracy on user6: 0.483\n",
            "Mean accuracy: 0.553\n",
            "\n",
            "\n",
            "Window size: 10\n",
            "X_all shape: (2703, 30)\n",
            "y_all shape: (2703,)\n",
            "person_all shape: (2703,)\n",
            "Accuracy on user1: 0.602\n",
            "Accuracy on user2: 0.501\n",
            "Accuracy on user3: 0.506\n",
            "Accuracy on user4: 0.685\n",
            "Accuracy on user5: 0.557\n",
            "Accuracy on user6: 0.535\n",
            "Mean accuracy: 0.564\n",
            "\n",
            "\n",
            "Window size: 20\n",
            "X_all shape: (2643, 60)\n",
            "y_all shape: (2643,)\n",
            "person_all shape: (2643,)\n",
            "Accuracy on user1: 0.549\n",
            "Accuracy on user2: 0.530\n",
            "Accuracy on user3: 0.519\n",
            "Accuracy on user4: 0.722\n",
            "Accuracy on user5: 0.670\n",
            "Accuracy on user6: 0.430\n",
            "Mean accuracy: 0.570\n",
            "\n",
            "\n",
            "Window size: 50\n",
            "X_all shape: (2463, 150)\n",
            "y_all shape: (2463,)\n",
            "person_all shape: (2463,)\n",
            "Accuracy on user1: 0.539\n",
            "Accuracy on user2: 0.505\n",
            "Accuracy on user3: 0.577\n",
            "Accuracy on user4: 0.760\n",
            "Accuracy on user5: 0.761\n",
            "Accuracy on user6: 0.411\n",
            "Mean accuracy: 0.592\n",
            "\n",
            "\n",
            "Window size: 100\n",
            "X_all shape: (2163, 300)\n",
            "y_all shape: (2163,)\n",
            "person_all shape: (2163,)\n",
            "Accuracy on user1: 0.524\n",
            "Accuracy on user2: 0.531\n",
            "Accuracy on user3: 0.683\n",
            "Accuracy on user4: 0.660\n",
            "Accuracy on user5: 0.844\n",
            "Accuracy on user6: 0.164\n",
            "Mean accuracy: 0.568\n",
            "\n",
            "\n",
            "Window size: 200\n",
            "X_all shape: (1563, 600)\n",
            "y_all shape: (1563,)\n",
            "person_all shape: (1563,)\n",
            "Accuracy on user1: 0.532\n",
            "Accuracy on user2: 0.474\n",
            "Accuracy on user3: 0.515\n",
            "Accuracy on user4: 0.655\n",
            "Accuracy on user5: 0.860\n",
            "Accuracy on user6: 0.142\n",
            "Mean accuracy: 0.530\n",
            "\n",
            "\n"
          ]
        }
      ]
    },
    {
      "cell_type": "markdown",
      "source": [
        "### Plot mean accuracy by window size"
      ],
      "metadata": {
        "id": "CWKk5V5LPW73"
      }
    },
    {
      "cell_type": "code",
      "source": [
        "plt.bar(np.array(window_sizes, dtype=str), accuracies_per_window_size)\n",
        "plt.ylim([min(accuracies_per_window_size) - 0.01, max(accuracies_per_window_size) + 0.01])\n",
        "plt.show()"
      ],
      "metadata": {
        "colab": {
          "base_uri": "https://localhost:8080/",
          "height": 265
        },
        "id": "LlEpW9rWPWX7",
        "outputId": "6ae23224-c9dd-4b51-ad81-6a71dacb077b"
      },
      "execution_count": 105,
      "outputs": [
        {
          "output_type": "display_data",
          "data": {
            "text/plain": [
              "<Figure size 432x288 with 1 Axes>"
            ],
            "image/png": "[encoded data removed]"
          },
          "metadata": {
            "needs_background": "light"
          }
        }
      ]
    }
  ]
}